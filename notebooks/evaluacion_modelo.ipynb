{
 "cells": [
  {
   "cell_type": "code",
   "execution_count": 1,
   "metadata": {},
   "outputs": [
    {
     "name": "stdout",
     "output_type": "stream",
     "text": [
      "Matriz de Confusión:\n",
      "[[7502   28]\n",
      " [  56 4053]]\n",
      "Informe de Clasificación:\n",
      "              precision    recall  f1-score   support\n",
      "\n",
      "           0       0.99      1.00      0.99      7530\n",
      "           1       0.99      0.99      0.99      4109\n",
      "\n",
      "    accuracy                           0.99     11639\n",
      "   macro avg       0.99      0.99      0.99     11639\n",
      "weighted avg       0.99      0.99      0.99     11639\n",
      "\n"
     ]
    }
   ],
   "source": [
    "import pandas as pd\n",
    "import pickle\n",
    "from sklearn.metrics import classification_report, confusion_matrix\n",
    "\n",
    "# Cargar el modelo entrenado desde el archivo pickle\n",
    "with open('../models/trained_model.pkl', 'rb') as archivo_entrada:\n",
    "    model = pickle.load(archivo_entrada)\n",
    "\n",
    "# Cargar los datos de prueba\n",
    "test_df = pd.read_csv('../data/test/test_df.csv')\n",
    "X_test = test_df.drop('DELAYED', axis=1) \n",
    "y_test = test_df['DELAYED']\n",
    "\n",
    "# Realizar las predicciones utilizando el modelo\n",
    "predictions = model.predict(X_test)\n",
    "\n",
    "# Calcular la matriz de confusión\n",
    "confusion_matrix = confusion_matrix(y_test, predictions)\n",
    "print(\"Matriz de Confusión:\")\n",
    "print(confusion_matrix)\n",
    "\n",
    "# Calcular el informe de clasificación\n",
    "classification_report = classification_report(y_test, predictions)\n",
    "print(\"Informe de Clasificación:\")\n",
    "print(classification_report)"
   ]
  },
  {
   "cell_type": "code",
   "execution_count": null,
   "metadata": {},
   "outputs": [],
   "source": []
  }
 ],
 "metadata": {
  "kernelspec": {
   "display_name": "Python 3",
   "language": "python",
   "name": "python3"
  },
  "language_info": {
   "codemirror_mode": {
    "name": "ipython",
    "version": 3
   },
   "file_extension": ".py",
   "mimetype": "text/x-python",
   "name": "python",
   "nbconvert_exporter": "python",
   "pygments_lexer": "ipython3",
   "version": "3.11.1"
  },
  "orig_nbformat": 4
 },
 "nbformat": 4,
 "nbformat_minor": 2
}
