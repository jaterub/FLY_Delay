{
 "cells": [
  {
   "cell_type": "code",
   "execution_count": 8,
   "metadata": {},
   "outputs": [],
   "source": [
    "from sklearn.pipeline import Pipeline\n",
    "from sklearn.preprocessing import StandardScaler\n",
    "from sklearn.linear_model import LogisticRegression\n",
    "from sklearn.tree import DecisionTreeClassifier\n",
    "from sklearn.svm import SVC\n",
    "from sklearn.metrics import confusion_matrix\n",
    "import pandas as pd\n",
    "from sklearn.model_selection import train_test_split\n",
    "from sklearn.naive_bayes import GaussianNB\n",
    "from sklearn.cluster import KMeans\n",
    "from sklearn.model_selection import GridSearchCV\n",
    "from sklearn.metrics import accuracy_score, precision_score, recall_score, f1_score"
   ]
  },
  {
   "cell_type": "code",
   "execution_count": 9,
   "metadata": {},
   "outputs": [],
   "source": [
    "df_processed = pd.read_csv('../data/processed/processed.csv')\n",
    "df_processed.shape\n",
    "X = df_processed.drop(['DELAYED','ARRIVAL_DELAY','DEPARTURE_TIME'], axis=1).copy()\n",
    "\n",
    "y = df_processed['DELAYED'].copy()\n",
    "X_train, X_test, y_train, y_test = train_test_split(X, y, test_size=0.2, random_state=42)"
   ]
  },
  {
   "attachments": {},
   "cell_type": "markdown",
   "metadata": {},
   "source": [
    "## Naive Bayes"
   ]
  },
  {
   "cell_type": "code",
   "execution_count": 10,
   "metadata": {},
   "outputs": [
    {
     "name": "stdout",
     "output_type": "stream",
     "text": [
      "Métricas Naive Bayes\n",
      "Accuracy en los datos de entrenamiento: 0.41\n",
      "Accuracy en los datos de prueba: 0.41\n",
      "Precisión en los datos de prueba: 0.38\n",
      "Recall en los datos de prueba: 0.98\n",
      "F1-score en los datos de prueba: 0.55\n",
      "Matriz de confusión:\n",
      "[[ 129 1698]\n",
      " [  25 1058]]\n"
     ]
    }
   ],
   "source": [
    "pipeline = Pipeline([\n",
    "    ('scaler', StandardScaler()),  # Escalador\n",
    "    ('nb', GaussianNB())  # Clasificador Naive Bayes\n",
    "])\n",
    "\n",
    "# No hay hiperparámetros para ajustar en Naive Bayes\n",
    "\n",
    "# Entrenar el modelo\n",
    "pipeline.fit(X_train, y_train)\n",
    "\n",
    "# Obtener el mejor modelo\n",
    "best_nb_model = pipeline\n",
    "\n",
    "print('Métricas Naive Bayes')\n",
    "\n",
    "# Evaluar el rendimiento del modelo en los datos de entrenamiento\n",
    "y_train_pred = best_nb_model.predict(X_train)\n",
    "train_accuracy = accuracy_score(y_train, y_train_pred)\n",
    "print(f'Accuracy en los datos de entrenamiento: {train_accuracy:.2f}')\n",
    "\n",
    "# Evaluar el rendimiento del modelo en los datos de prueba\n",
    "y_test_pred = best_nb_model.predict(X_test)\n",
    "test_accuracy = accuracy_score(y_test, y_test_pred)\n",
    "test_precision = precision_score(y_test, y_test_pred)\n",
    "test_recall = recall_score(y_test, y_test_pred)\n",
    "test_f1 = f1_score(y_test, y_test_pred)\n",
    "confusion = confusion_matrix(y_test, y_test_pred)\n",
    "\n",
    "print(f'Accuracy en los datos de prueba: {test_accuracy:.2f}')\n",
    "print(f'Precisión en los datos de prueba: {test_precision:.2f}')\n",
    "print(f'Recall en los datos de prueba: {test_recall:.2f}')\n",
    "print(f'F1-score en los datos de prueba: {test_f1:.2f}')\n",
    "print('Matriz de confusión:')\n",
    "print(confusion)"
   ]
  },
  {
   "cell_type": "code",
   "execution_count": null,
   "metadata": {},
   "outputs": [],
   "source": []
  }
 ],
 "metadata": {
  "kernelspec": {
   "display_name": "Python 3",
   "language": "python",
   "name": "python3"
  },
  "language_info": {
   "codemirror_mode": {
    "name": "ipython",
    "version": 3
   },
   "file_extension": ".py",
   "mimetype": "text/x-python",
   "name": "python",
   "nbconvert_exporter": "python",
   "pygments_lexer": "ipython3",
   "version": "3.11.1"
  },
  "orig_nbformat": 4
 },
 "nbformat": 4,
 "nbformat_minor": 2
}
