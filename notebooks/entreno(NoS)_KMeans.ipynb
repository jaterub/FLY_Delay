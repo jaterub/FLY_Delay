{
 "cells": [
  {
   "cell_type": "code",
   "execution_count": 1,
   "metadata": {},
   "outputs": [],
   "source": [
    "from sklearn.pipeline import Pipeline\n",
    "from sklearn.preprocessing import StandardScaler\n",
    "from sklearn.linear_model import LogisticRegression\n",
    "from sklearn.tree import DecisionTreeClassifier\n",
    "from sklearn.svm import SVC\n",
    "import pandas as pd\n",
    "from sklearn.model_selection import train_test_split\n",
    "from sklearn.naive_bayes import GaussianNB\n",
    "from sklearn.cluster import KMeans\n",
    "from sklearn.model_selection import GridSearchCV\n",
    "from sklearn.metrics import accuracy_score, precision_score, recall_score, f1_score,confusion_matrix"
   ]
  },
  {
   "cell_type": "code",
   "execution_count": 2,
   "metadata": {},
   "outputs": [],
   "source": [
    "df_processed = pd.read_csv('../data/processed/processed.csv')\n",
    "\n",
    "X = df_processed.drop(['DELAYED','ARRIVAL_DELAY','DEPARTURE_TIME'], axis=1).copy()\n",
    "\n",
    "y = df_processed['DELAYED'].copy()\n",
    "X_train, X_test, y_train, y_test = train_test_split(X, y, test_size=0.2, random_state=42)"
   ]
  },
  {
   "attachments": {},
   "cell_type": "markdown",
   "metadata": {},
   "source": [
    "\n",
    "## K-means PRUEBA 1"
   ]
  },
  {
   "attachments": {
    "image.png": {
     "image/png": "[encoded data removed]"
    }
   },
   "cell_type": "markdown",
   "metadata": {},
   "source": [
    "![image.png](attachment:image.png)"
   ]
  },
  {
   "attachments": {},
   "cell_type": "markdown",
   "metadata": {},
   "source": [
    "## kmeans1_model\n",
    "{'kmeans__init': 'random', 'kmeans__n_clusters': 4}\n",
    "Índice de Silhouette: 0.40"
   ]
  },
  {
   "cell_type": "code",
   "execution_count": 12,
   "metadata": {},
   "outputs": [
    {
     "name": "stdout",
     "output_type": "stream",
     "text": [
      "Fitting 5 folds for each of 6 candidates, totalling 30 fits\n"
     ]
    },
    {
     "name": "stderr",
     "output_type": "stream",
     "text": [
      "c:\\Users\\34680\\AppData\\Local\\Programs\\Python\\Python311\\Lib\\site-packages\\sklearn\\cluster\\_kmeans.py:870: FutureWarning: The default value of `n_init` will change from 10 to 'auto' in 1.4. Set the value of `n_init` explicitly to suppress the warning\n",
      "  warnings.warn(\n"
     ]
    },
    {
     "name": "stdout",
     "output_type": "stream",
     "text": [
      "[CV 1/5] END kmeans__init=k-means++, kmeans__n_clusters=2;, score=-1918186.901 total time=   3.5s\n"
     ]
    },
    {
     "name": "stderr",
     "output_type": "stream",
     "text": [
      "c:\\Users\\34680\\AppData\\Local\\Programs\\Python\\Python311\\Lib\\site-packages\\sklearn\\cluster\\_kmeans.py:870: FutureWarning: The default value of `n_init` will change from 10 to 'auto' in 1.4. Set the value of `n_init` explicitly to suppress the warning\n",
      "  warnings.warn(\n"
     ]
    },
    {
     "name": "stdout",
     "output_type": "stream",
     "text": [
      "[CV 2/5] END kmeans__init=k-means++, kmeans__n_clusters=2;, score=-1977832.252 total time=   2.1s\n"
     ]
    },
    {
     "name": "stderr",
     "output_type": "stream",
     "text": [
      "c:\\Users\\34680\\AppData\\Local\\Programs\\Python\\Python311\\Lib\\site-packages\\sklearn\\cluster\\_kmeans.py:870: FutureWarning: The default value of `n_init` will change from 10 to 'auto' in 1.4. Set the value of `n_init` explicitly to suppress the warning\n",
      "  warnings.warn(\n"
     ]
    },
    {
     "name": "stdout",
     "output_type": "stream",
     "text": [
      "[CV 3/5] END kmeans__init=k-means++, kmeans__n_clusters=2;, score=-2126073.573 total time=   2.7s\n"
     ]
    },
    {
     "name": "stderr",
     "output_type": "stream",
     "text": [
      "c:\\Users\\34680\\AppData\\Local\\Programs\\Python\\Python311\\Lib\\site-packages\\sklearn\\cluster\\_kmeans.py:870: FutureWarning: The default value of `n_init` will change from 10 to 'auto' in 1.4. Set the value of `n_init` explicitly to suppress the warning\n",
      "  warnings.warn(\n"
     ]
    },
    {
     "name": "stdout",
     "output_type": "stream",
     "text": [
      "[CV 4/5] END kmeans__init=k-means++, kmeans__n_clusters=2;, score=-1937543.733 total time=   3.5s\n"
     ]
    },
    {
     "name": "stderr",
     "output_type": "stream",
     "text": [
      "c:\\Users\\34680\\AppData\\Local\\Programs\\Python\\Python311\\Lib\\site-packages\\sklearn\\cluster\\_kmeans.py:870: FutureWarning: The default value of `n_init` will change from 10 to 'auto' in 1.4. Set the value of `n_init` explicitly to suppress the warning\n",
      "  warnings.warn(\n"
     ]
    },
    {
     "name": "stdout",
     "output_type": "stream",
     "text": [
      "[CV 5/5] END kmeans__init=k-means++, kmeans__n_clusters=2;, score=-1993888.769 total time=   2.6s\n"
     ]
    },
    {
     "name": "stderr",
     "output_type": "stream",
     "text": [
      "c:\\Users\\34680\\AppData\\Local\\Programs\\Python\\Python311\\Lib\\site-packages\\sklearn\\cluster\\_kmeans.py:870: FutureWarning: The default value of `n_init` will change from 10 to 'auto' in 1.4. Set the value of `n_init` explicitly to suppress the warning\n",
      "  warnings.warn(\n"
     ]
    },
    {
     "name": "stdout",
     "output_type": "stream",
     "text": [
      "[CV 1/5] END kmeans__init=k-means++, kmeans__n_clusters=3;, score=-1912764.181 total time=   6.0s\n"
     ]
    },
    {
     "name": "stderr",
     "output_type": "stream",
     "text": [
      "c:\\Users\\34680\\AppData\\Local\\Programs\\Python\\Python311\\Lib\\site-packages\\sklearn\\cluster\\_kmeans.py:870: FutureWarning: The default value of `n_init` will change from 10 to 'auto' in 1.4. Set the value of `n_init` explicitly to suppress the warning\n",
      "  warnings.warn(\n"
     ]
    },
    {
     "name": "stdout",
     "output_type": "stream",
     "text": [
      "[CV 2/5] END kmeans__init=k-means++, kmeans__n_clusters=3;, score=-1972096.764 total time=   6.5s\n"
     ]
    },
    {
     "name": "stderr",
     "output_type": "stream",
     "text": [
      "c:\\Users\\34680\\AppData\\Local\\Programs\\Python\\Python311\\Lib\\site-packages\\sklearn\\cluster\\_kmeans.py:870: FutureWarning: The default value of `n_init` will change from 10 to 'auto' in 1.4. Set the value of `n_init` explicitly to suppress the warning\n",
      "  warnings.warn(\n"
     ]
    },
    {
     "name": "stdout",
     "output_type": "stream",
     "text": [
      "[CV 3/5] END kmeans__init=k-means++, kmeans__n_clusters=3;, score=-2120634.377 total time=   5.7s\n"
     ]
    },
    {
     "name": "stderr",
     "output_type": "stream",
     "text": [
      "c:\\Users\\34680\\AppData\\Local\\Programs\\Python\\Python311\\Lib\\site-packages\\sklearn\\cluster\\_kmeans.py:870: FutureWarning: The default value of `n_init` will change from 10 to 'auto' in 1.4. Set the value of `n_init` explicitly to suppress the warning\n",
      "  warnings.warn(\n"
     ]
    },
    {
     "name": "stdout",
     "output_type": "stream",
     "text": [
      "[CV 4/5] END kmeans__init=k-means++, kmeans__n_clusters=3;, score=-1934690.851 total time=   6.4s\n"
     ]
    },
    {
     "name": "stderr",
     "output_type": "stream",
     "text": [
      "c:\\Users\\34680\\AppData\\Local\\Programs\\Python\\Python311\\Lib\\site-packages\\sklearn\\cluster\\_kmeans.py:870: FutureWarning: The default value of `n_init` will change from 10 to 'auto' in 1.4. Set the value of `n_init` explicitly to suppress the warning\n",
      "  warnings.warn(\n"
     ]
    },
    {
     "name": "stdout",
     "output_type": "stream",
     "text": [
      "[CV 5/5] END kmeans__init=k-means++, kmeans__n_clusters=3;, score=-1990837.216 total time=   3.9s\n"
     ]
    },
    {
     "name": "stderr",
     "output_type": "stream",
     "text": [
      "c:\\Users\\34680\\AppData\\Local\\Programs\\Python\\Python311\\Lib\\site-packages\\sklearn\\cluster\\_kmeans.py:870: FutureWarning: The default value of `n_init` will change from 10 to 'auto' in 1.4. Set the value of `n_init` explicitly to suppress the warning\n",
      "  warnings.warn(\n"
     ]
    },
    {
     "name": "stdout",
     "output_type": "stream",
     "text": [
      "[CV 1/5] END kmeans__init=k-means++, kmeans__n_clusters=4;, score=-1908315.903 total time=   5.9s\n"
     ]
    },
    {
     "name": "stderr",
     "output_type": "stream",
     "text": [
      "c:\\Users\\34680\\AppData\\Local\\Programs\\Python\\Python311\\Lib\\site-packages\\sklearn\\cluster\\_kmeans.py:870: FutureWarning: The default value of `n_init` will change from 10 to 'auto' in 1.4. Set the value of `n_init` explicitly to suppress the warning\n",
      "  warnings.warn(\n"
     ]
    },
    {
     "name": "stdout",
     "output_type": "stream",
     "text": [
      "[CV 2/5] END kmeans__init=k-means++, kmeans__n_clusters=4;, score=-1961327.439 total time=   5.2s\n"
     ]
    },
    {
     "name": "stderr",
     "output_type": "stream",
     "text": [
      "c:\\Users\\34680\\AppData\\Local\\Programs\\Python\\Python311\\Lib\\site-packages\\sklearn\\cluster\\_kmeans.py:870: FutureWarning: The default value of `n_init` will change from 10 to 'auto' in 1.4. Set the value of `n_init` explicitly to suppress the warning\n",
      "  warnings.warn(\n"
     ]
    },
    {
     "name": "stdout",
     "output_type": "stream",
     "text": [
      "[CV 3/5] END kmeans__init=k-means++, kmeans__n_clusters=4;, score=-2120953.867 total time=   6.2s\n"
     ]
    },
    {
     "name": "stderr",
     "output_type": "stream",
     "text": [
      "c:\\Users\\34680\\AppData\\Local\\Programs\\Python\\Python311\\Lib\\site-packages\\sklearn\\cluster\\_kmeans.py:870: FutureWarning: The default value of `n_init` will change from 10 to 'auto' in 1.4. Set the value of `n_init` explicitly to suppress the warning\n",
      "  warnings.warn(\n"
     ]
    },
    {
     "name": "stdout",
     "output_type": "stream",
     "text": [
      "[CV 4/5] END kmeans__init=k-means++, kmeans__n_clusters=4;, score=-1936634.277 total time=   4.9s\n"
     ]
    },
    {
     "name": "stderr",
     "output_type": "stream",
     "text": [
      "c:\\Users\\34680\\AppData\\Local\\Programs\\Python\\Python311\\Lib\\site-packages\\sklearn\\cluster\\_kmeans.py:870: FutureWarning: The default value of `n_init` will change from 10 to 'auto' in 1.4. Set the value of `n_init` explicitly to suppress the warning\n",
      "  warnings.warn(\n"
     ]
    },
    {
     "name": "stdout",
     "output_type": "stream",
     "text": [
      "[CV 5/5] END kmeans__init=k-means++, kmeans__n_clusters=4;, score=-1994168.700 total time=   2.8s\n"
     ]
    },
    {
     "name": "stderr",
     "output_type": "stream",
     "text": [
      "c:\\Users\\34680\\AppData\\Local\\Programs\\Python\\Python311\\Lib\\site-packages\\sklearn\\cluster\\_kmeans.py:870: FutureWarning: The default value of `n_init` will change from 10 to 'auto' in 1.4. Set the value of `n_init` explicitly to suppress the warning\n",
      "  warnings.warn(\n"
     ]
    },
    {
     "name": "stdout",
     "output_type": "stream",
     "text": [
      "[CV 1/5] END kmeans__init=random, kmeans__n_clusters=2;, score=-1918162.632 total time=   2.1s\n"
     ]
    },
    {
     "name": "stderr",
     "output_type": "stream",
     "text": [
      "c:\\Users\\34680\\AppData\\Local\\Programs\\Python\\Python311\\Lib\\site-packages\\sklearn\\cluster\\_kmeans.py:870: FutureWarning: The default value of `n_init` will change from 10 to 'auto' in 1.4. Set the value of `n_init` explicitly to suppress the warning\n",
      "  warnings.warn(\n"
     ]
    },
    {
     "name": "stdout",
     "output_type": "stream",
     "text": [
      "[CV 2/5] END kmeans__init=random, kmeans__n_clusters=2;, score=-1972836.872 total time=   2.8s\n"
     ]
    },
    {
     "name": "stderr",
     "output_type": "stream",
     "text": [
      "c:\\Users\\34680\\AppData\\Local\\Programs\\Python\\Python311\\Lib\\site-packages\\sklearn\\cluster\\_kmeans.py:870: FutureWarning: The default value of `n_init` will change from 10 to 'auto' in 1.4. Set the value of `n_init` explicitly to suppress the warning\n",
      "  warnings.warn(\n"
     ]
    },
    {
     "name": "stdout",
     "output_type": "stream",
     "text": [
      "[CV 3/5] END kmeans__init=random, kmeans__n_clusters=2;, score=-2126141.800 total time=   2.8s\n"
     ]
    },
    {
     "name": "stderr",
     "output_type": "stream",
     "text": [
      "c:\\Users\\34680\\AppData\\Local\\Programs\\Python\\Python311\\Lib\\site-packages\\sklearn\\cluster\\_kmeans.py:870: FutureWarning: The default value of `n_init` will change from 10 to 'auto' in 1.4. Set the value of `n_init` explicitly to suppress the warning\n",
      "  warnings.warn(\n"
     ]
    },
    {
     "name": "stdout",
     "output_type": "stream",
     "text": [
      "[CV 4/5] END kmeans__init=random, kmeans__n_clusters=2;, score=-1937490.337 total time=   5.3s\n"
     ]
    },
    {
     "name": "stderr",
     "output_type": "stream",
     "text": [
      "c:\\Users\\34680\\AppData\\Local\\Programs\\Python\\Python311\\Lib\\site-packages\\sklearn\\cluster\\_kmeans.py:870: FutureWarning: The default value of `n_init` will change from 10 to 'auto' in 1.4. Set the value of `n_init` explicitly to suppress the warning\n",
      "  warnings.warn(\n"
     ]
    },
    {
     "name": "stdout",
     "output_type": "stream",
     "text": [
      "[CV 5/5] END kmeans__init=random, kmeans__n_clusters=2;, score=-1993412.777 total time=   4.1s\n"
     ]
    },
    {
     "name": "stderr",
     "output_type": "stream",
     "text": [
      "c:\\Users\\34680\\AppData\\Local\\Programs\\Python\\Python311\\Lib\\site-packages\\sklearn\\cluster\\_kmeans.py:870: FutureWarning: The default value of `n_init` will change from 10 to 'auto' in 1.4. Set the value of `n_init` explicitly to suppress the warning\n",
      "  warnings.warn(\n"
     ]
    },
    {
     "name": "stdout",
     "output_type": "stream",
     "text": [
      "[CV 1/5] END kmeans__init=random, kmeans__n_clusters=3;, score=-1915757.798 total time=   4.4s\n"
     ]
    },
    {
     "name": "stderr",
     "output_type": "stream",
     "text": [
      "c:\\Users\\34680\\AppData\\Local\\Programs\\Python\\Python311\\Lib\\site-packages\\sklearn\\cluster\\_kmeans.py:870: FutureWarning: The default value of `n_init` will change from 10 to 'auto' in 1.4. Set the value of `n_init` explicitly to suppress the warning\n",
      "  warnings.warn(\n"
     ]
    },
    {
     "name": "stdout",
     "output_type": "stream",
     "text": [
      "[CV 2/5] END kmeans__init=random, kmeans__n_clusters=3;, score=-1970659.323 total time=   5.3s\n"
     ]
    },
    {
     "name": "stderr",
     "output_type": "stream",
     "text": [
      "c:\\Users\\34680\\AppData\\Local\\Programs\\Python\\Python311\\Lib\\site-packages\\sklearn\\cluster\\_kmeans.py:870: FutureWarning: The default value of `n_init` will change from 10 to 'auto' in 1.4. Set the value of `n_init` explicitly to suppress the warning\n",
      "  warnings.warn(\n"
     ]
    },
    {
     "name": "stdout",
     "output_type": "stream",
     "text": [
      "[CV 3/5] END kmeans__init=random, kmeans__n_clusters=3;, score=-2120598.545 total time=   9.7s\n"
     ]
    },
    {
     "name": "stderr",
     "output_type": "stream",
     "text": [
      "c:\\Users\\34680\\AppData\\Local\\Programs\\Python\\Python311\\Lib\\site-packages\\sklearn\\cluster\\_kmeans.py:870: FutureWarning: The default value of `n_init` will change from 10 to 'auto' in 1.4. Set the value of `n_init` explicitly to suppress the warning\n",
      "  warnings.warn(\n"
     ]
    },
    {
     "name": "stdout",
     "output_type": "stream",
     "text": [
      "[CV 4/5] END kmeans__init=random, kmeans__n_clusters=3;, score=-1935068.866 total time=   7.6s\n"
     ]
    },
    {
     "name": "stderr",
     "output_type": "stream",
     "text": [
      "c:\\Users\\34680\\AppData\\Local\\Programs\\Python\\Python311\\Lib\\site-packages\\sklearn\\cluster\\_kmeans.py:870: FutureWarning: The default value of `n_init` will change from 10 to 'auto' in 1.4. Set the value of `n_init` explicitly to suppress the warning\n",
      "  warnings.warn(\n"
     ]
    },
    {
     "name": "stdout",
     "output_type": "stream",
     "text": [
      "[CV 5/5] END kmeans__init=random, kmeans__n_clusters=3;, score=-1987022.145 total time=   6.6s\n"
     ]
    },
    {
     "name": "stderr",
     "output_type": "stream",
     "text": [
      "c:\\Users\\34680\\AppData\\Local\\Programs\\Python\\Python311\\Lib\\site-packages\\sklearn\\cluster\\_kmeans.py:870: FutureWarning: The default value of `n_init` will change from 10 to 'auto' in 1.4. Set the value of `n_init` explicitly to suppress the warning\n",
      "  warnings.warn(\n"
     ]
    },
    {
     "name": "stdout",
     "output_type": "stream",
     "text": [
      "[CV 1/5] END kmeans__init=random, kmeans__n_clusters=4;, score=-1913081.320 total time=   3.7s\n"
     ]
    },
    {
     "name": "stderr",
     "output_type": "stream",
     "text": [
      "c:\\Users\\34680\\AppData\\Local\\Programs\\Python\\Python311\\Lib\\site-packages\\sklearn\\cluster\\_kmeans.py:870: FutureWarning: The default value of `n_init` will change from 10 to 'auto' in 1.4. Set the value of `n_init` explicitly to suppress the warning\n",
      "  warnings.warn(\n"
     ]
    },
    {
     "name": "stdout",
     "output_type": "stream",
     "text": [
      "[CV 2/5] END kmeans__init=random, kmeans__n_clusters=4;, score=-1965014.447 total time=   7.1s\n"
     ]
    },
    {
     "name": "stderr",
     "output_type": "stream",
     "text": [
      "c:\\Users\\34680\\AppData\\Local\\Programs\\Python\\Python311\\Lib\\site-packages\\sklearn\\cluster\\_kmeans.py:870: FutureWarning: The default value of `n_init` will change from 10 to 'auto' in 1.4. Set the value of `n_init` explicitly to suppress the warning\n",
      "  warnings.warn(\n"
     ]
    },
    {
     "name": "stdout",
     "output_type": "stream",
     "text": [
      "[CV 3/5] END kmeans__init=random, kmeans__n_clusters=4;, score=-2118101.535 total time=   7.7s\n"
     ]
    },
    {
     "name": "stderr",
     "output_type": "stream",
     "text": [
      "c:\\Users\\34680\\AppData\\Local\\Programs\\Python\\Python311\\Lib\\site-packages\\sklearn\\cluster\\_kmeans.py:870: FutureWarning: The default value of `n_init` will change from 10 to 'auto' in 1.4. Set the value of `n_init` explicitly to suppress the warning\n",
      "  warnings.warn(\n"
     ]
    },
    {
     "name": "stdout",
     "output_type": "stream",
     "text": [
      "[CV 4/5] END kmeans__init=random, kmeans__n_clusters=4;, score=-1932330.540 total time=   7.7s\n"
     ]
    },
    {
     "name": "stderr",
     "output_type": "stream",
     "text": [
      "c:\\Users\\34680\\AppData\\Local\\Programs\\Python\\Python311\\Lib\\site-packages\\sklearn\\cluster\\_kmeans.py:870: FutureWarning: The default value of `n_init` will change from 10 to 'auto' in 1.4. Set the value of `n_init` explicitly to suppress the warning\n",
      "  warnings.warn(\n"
     ]
    },
    {
     "name": "stdout",
     "output_type": "stream",
     "text": [
      "[CV 5/5] END kmeans__init=random, kmeans__n_clusters=4;, score=-1982537.473 total time=   6.6s\n"
     ]
    },
    {
     "name": "stderr",
     "output_type": "stream",
     "text": [
      "c:\\Users\\34680\\AppData\\Local\\Programs\\Python\\Python311\\Lib\\site-packages\\sklearn\\cluster\\_kmeans.py:870: FutureWarning: The default value of `n_init` will change from 10 to 'auto' in 1.4. Set the value of `n_init` explicitly to suppress the warning\n",
      "  warnings.warn(\n"
     ]
    },
    {
     "name": "stdout",
     "output_type": "stream",
     "text": [
      "kmeans1_model\n",
      "{'kmeans__init': 'random', 'kmeans__n_clusters': 4}\n",
      "Índice de Silhouette: 0.40\n"
     ]
    }
   ],
   "source": [
    "from sklearn.pipeline import Pipeline\n",
    "from sklearn.preprocessing import StandardScaler\n",
    "from sklearn.cluster import KMeans\n",
    "from sklearn.model_selection import GridSearchCV\n",
    "from sklearn.metrics import silhouette_score\n",
    "\n",
    "pipeline = Pipeline([\n",
    "    ('scaler', StandardScaler()),  # Escalador\n",
    "    ('kmeans', KMeans(random_state=42))  # Clasificador K-means\n",
    "])\n",
    "\n",
    "# Definir los hiperparámetros a ajustar\n",
    "parameters = {\n",
    "    'kmeans__n_clusters': [2, 3, 4],\n",
    "    'kmeans__init': ['k-means++', 'random']\n",
    "}\n",
    "\n",
    "# Realizar la búsqueda de hiperparámetros utilizando validación cruzada\n",
    "grid_search = GridSearchCV(pipeline, parameters, cv=5, verbose=3)\n",
    "grid_search.fit(X_train)\n",
    "\n",
    "# Obtener el mejor modelo\n",
    "kmeans1_model = grid_search.best_estimator_\n",
    "\n",
    "print('kmeans1_model')\n",
    "print(grid_search.best_params_)\n",
    "\n",
    "# Predecir con el mejor modelo en los datos de prueba\n",
    "y_pred = kmeans1_model.predict(X_test)\n",
    "\n",
    "# Calcular el índice de Silhouette\n",
    "silhouette = silhouette_score(X_test, y_pred)\n",
    "print(f'Índice de Silhouette: {silhouette:.2f}')"
   ]
  },
  {
   "attachments": {},
   "cell_type": "markdown",
   "metadata": {},
   "source": [
    "## K-means PRUEBA 2"
   ]
  },
  {
   "attachments": {
    "image.png": {
     "image/png": "[encoded data removed]"
    }
   },
   "cell_type": "markdown",
   "metadata": {},
   "source": [
    "![image.png](attachment:image.png)"
   ]
  },
  {
   "attachments": {},
   "cell_type": "markdown",
   "metadata": {},
   "source": [
    "## kmeans2_model\n",
    "{'kmeans__init': 'random', 'kmeans__max_iter': 100, 'kmeans__n_clusters': 4, 'kmeans__n_init': 5, 'kmeans__tol': 0.01}\n",
    "Índice de Silhouette: 0.40\n",
    "Índice de Calinski-Harabasz: 1728.73"
   ]
  },
  {
   "attachments": {},
   "cell_type": "markdown",
   "metadata": {},
   "source": [
    "CONCLUSIONES"
   ]
  },
  {
   "attachments": {},
   "cell_type": "markdown",
   "metadata": {},
   "source": [
    " Calinski-Harabasz para kmeans2_model es 1728.73, lo que indica que los clusters están bien separados y cohesivos.\n",
    " Silhouette para kmeans2_model es 0.40, lo que indica que los clusters están moderadamente separados y cohesivos."
   ]
  },
  {
   "cell_type": "code",
   "execution_count": 8,
   "metadata": {},
   "outputs": [
    {
     "name": "stdout",
     "output_type": "stream",
     "text": [
      "Fitting 4 folds for each of 48 candidates, totalling 192 fits\n",
      "[CV 1/4] END kmeans__init=k-means++, kmeans__max_iter=100, kmeans__n_clusters=2, kmeans__n_init=1, kmeans__tol=0.0001;, score=-2373649.863 total time=   1.3s\n",
      "[CV 2/4] END kmeans__init=k-means++, kmeans__max_iter=100, kmeans__n_clusters=2, kmeans__n_init=1, kmeans__tol=0.0001;, score=-2422123.000 total time=   1.7s\n",
      "[CV 3/4] END kmeans__init=k-means++, kmeans__max_iter=100, kmeans__n_clusters=2, kmeans__n_init=1, kmeans__tol=0.0001;, score=-2403313.291 total time=   1.3s\n",
      "[CV 4/4] END kmeans__init=k-means++, kmeans__max_iter=100, kmeans__n_clusters=2, kmeans__n_init=1, kmeans__tol=0.0001;, score=-2401611.948 total time=   1.3s\n",
      "[CV 1/4] END kmeans__init=k-means++, kmeans__max_iter=100, kmeans__n_clusters=2, kmeans__n_init=1, kmeans__tol=0.01;, score=-2373649.863 total time=   1.3s\n",
      "[CV 2/4] END kmeans__init=k-means++, kmeans__max_iter=100, kmeans__n_clusters=2, kmeans__n_init=1, kmeans__tol=0.01;, score=-2422123.000 total time=   1.2s\n",
      "[CV 3/4] END kmeans__init=k-means++, kmeans__max_iter=100, kmeans__n_clusters=2, kmeans__n_init=1, kmeans__tol=0.01;, score=-2403313.291 total time=   1.1s\n",
      "[CV 4/4] END kmeans__init=k-means++, kmeans__max_iter=100, kmeans__n_clusters=2, kmeans__n_init=1, kmeans__tol=0.01;, score=-2401611.948 total time=   1.1s\n",
      "[CV 1/4] END kmeans__init=k-means++, kmeans__max_iter=100, kmeans__n_clusters=2, kmeans__n_init=5, kmeans__tol=0.0001;, score=-2372542.394 total time=   1.4s\n",
      "[CV 2/4] END kmeans__init=k-means++, kmeans__max_iter=100, kmeans__n_clusters=2, kmeans__n_init=5, kmeans__tol=0.0001;, score=-2417613.765 total time=   1.8s\n",
      "[CV 3/4] END kmeans__init=k-means++, kmeans__max_iter=100, kmeans__n_clusters=2, kmeans__n_init=5, kmeans__tol=0.0001;, score=-2395465.944 total time=   3.0s\n",
      "[CV 4/4] END kmeans__init=k-means++, kmeans__max_iter=100, kmeans__n_clusters=2, kmeans__n_init=5, kmeans__tol=0.0001;, score=-2394539.281 total time=   1.8s\n",
      "[CV 1/4] END kmeans__init=k-means++, kmeans__max_iter=100, kmeans__n_clusters=2, kmeans__n_init=5, kmeans__tol=0.01;, score=-2372542.394 total time=   1.8s\n",
      "[CV 2/4] END kmeans__init=k-means++, kmeans__max_iter=100, kmeans__n_clusters=2, kmeans__n_init=5, kmeans__tol=0.01;, score=-2417624.716 total time=   1.8s\n",
      "[CV 3/4] END kmeans__init=k-means++, kmeans__max_iter=100, kmeans__n_clusters=2, kmeans__n_init=5, kmeans__tol=0.01;, score=-2395660.275 total time=   2.2s\n",
      "[CV 4/4] END kmeans__init=k-means++, kmeans__max_iter=100, kmeans__n_clusters=2, kmeans__n_init=5, kmeans__tol=0.01;, score=-2394539.281 total time=   1.9s\n",
      "[CV 1/4] END kmeans__init=k-means++, kmeans__max_iter=100, kmeans__n_clusters=3, kmeans__n_init=1, kmeans__tol=0.0001;, score=-2368790.764 total time=   1.3s\n",
      "[CV 2/4] END kmeans__init=k-means++, kmeans__max_iter=100, kmeans__n_clusters=3, kmeans__n_init=1, kmeans__tol=0.0001;, score=-2419326.011 total time=   1.4s\n",
      "[CV 3/4] END kmeans__init=k-means++, kmeans__max_iter=100, kmeans__n_clusters=3, kmeans__n_init=1, kmeans__tol=0.0001;, score=-2394537.037 total time=   2.2s\n",
      "[CV 4/4] END kmeans__init=k-means++, kmeans__max_iter=100, kmeans__n_clusters=3, kmeans__n_init=1, kmeans__tol=0.0001;, score=-2396692.467 total time=   1.3s\n",
      "[CV 1/4] END kmeans__init=k-means++, kmeans__max_iter=100, kmeans__n_clusters=3, kmeans__n_init=1, kmeans__tol=0.01;, score=-2368790.764 total time=   1.5s\n",
      "[CV 2/4] END kmeans__init=k-means++, kmeans__max_iter=100, kmeans__n_clusters=3, kmeans__n_init=1, kmeans__tol=0.01;, score=-2419326.011 total time=   1.1s\n",
      "[CV 3/4] END kmeans__init=k-means++, kmeans__max_iter=100, kmeans__n_clusters=3, kmeans__n_init=1, kmeans__tol=0.01;, score=-2394755.568 total time=   1.3s\n",
      "[CV 4/4] END kmeans__init=k-means++, kmeans__max_iter=100, kmeans__n_clusters=3, kmeans__n_init=1, kmeans__tol=0.01;, score=-2396692.467 total time=   1.2s\n",
      "[CV 1/4] END kmeans__init=k-means++, kmeans__max_iter=100, kmeans__n_clusters=3, kmeans__n_init=5, kmeans__tol=0.0001;, score=-2358345.724 total time=   3.0s\n",
      "[CV 2/4] END kmeans__init=k-means++, kmeans__max_iter=100, kmeans__n_clusters=3, kmeans__n_init=5, kmeans__tol=0.0001;, score=-2414646.572 total time=   1.9s\n",
      "[CV 3/4] END kmeans__init=k-means++, kmeans__max_iter=100, kmeans__n_clusters=3, kmeans__n_init=5, kmeans__tol=0.0001;, score=-2394537.037 total time=   2.3s\n",
      "[CV 4/4] END kmeans__init=k-means++, kmeans__max_iter=100, kmeans__n_clusters=3, kmeans__n_init=5, kmeans__tol=0.0001;, score=-2390104.654 total time=   1.7s\n",
      "[CV 1/4] END kmeans__init=k-means++, kmeans__max_iter=100, kmeans__n_clusters=3, kmeans__n_init=5, kmeans__tol=0.01;, score=-2363692.017 total time=   2.0s\n",
      "[CV 2/4] END kmeans__init=k-means++, kmeans__max_iter=100, kmeans__n_clusters=3, kmeans__n_init=5, kmeans__tol=0.01;, score=-2414646.392 total time=   1.7s\n",
      "[CV 3/4] END kmeans__init=k-means++, kmeans__max_iter=100, kmeans__n_clusters=3, kmeans__n_init=5, kmeans__tol=0.01;, score=-2394755.568 total time=   1.8s\n",
      "[CV 4/4] END kmeans__init=k-means++, kmeans__max_iter=100, kmeans__n_clusters=3, kmeans__n_init=5, kmeans__tol=0.01;, score=-2390104.654 total time=   1.7s\n",
      "[CV 1/4] END kmeans__init=k-means++, kmeans__max_iter=100, kmeans__n_clusters=4, kmeans__n_init=1, kmeans__tol=0.0001;, score=-2367842.360 total time=   1.1s\n",
      "[CV 2/4] END kmeans__init=k-means++, kmeans__max_iter=100, kmeans__n_clusters=4, kmeans__n_init=1, kmeans__tol=0.0001;, score=-2410695.613 total time=   1.1s\n",
      "[CV 3/4] END kmeans__init=k-means++, kmeans__max_iter=100, kmeans__n_clusters=4, kmeans__n_init=1, kmeans__tol=0.0001;, score=-2394535.803 total time=   1.7s\n",
      "[CV 4/4] END kmeans__init=k-means++, kmeans__max_iter=100, kmeans__n_clusters=4, kmeans__n_init=1, kmeans__tol=0.0001;, score=-2387626.925 total time=   1.2s\n",
      "[CV 1/4] END kmeans__init=k-means++, kmeans__max_iter=100, kmeans__n_clusters=4, kmeans__n_init=1, kmeans__tol=0.01;, score=-2367842.360 total time=   1.1s\n",
      "[CV 2/4] END kmeans__init=k-means++, kmeans__max_iter=100, kmeans__n_clusters=4, kmeans__n_init=1, kmeans__tol=0.01;, score=-2410695.613 total time=   1.1s\n",
      "[CV 3/4] END kmeans__init=k-means++, kmeans__max_iter=100, kmeans__n_clusters=4, kmeans__n_init=1, kmeans__tol=0.01;, score=-2394750.054 total time=   1.3s\n",
      "[CV 4/4] END kmeans__init=k-means++, kmeans__max_iter=100, kmeans__n_clusters=4, kmeans__n_init=1, kmeans__tol=0.01;, score=-2387626.925 total time=   1.1s\n",
      "[CV 1/4] END kmeans__init=k-means++, kmeans__max_iter=100, kmeans__n_clusters=4, kmeans__n_init=5, kmeans__tol=0.0001;, score=-2359704.162 total time=   1.9s\n",
      "[CV 2/4] END kmeans__init=k-means++, kmeans__max_iter=100, kmeans__n_clusters=4, kmeans__n_init=5, kmeans__tol=0.0001;, score=-2417602.778 total time=   1.9s\n",
      "[CV 3/4] END kmeans__init=k-means++, kmeans__max_iter=100, kmeans__n_clusters=4, kmeans__n_init=5, kmeans__tol=0.0001;, score=-2390630.426 total time=   2.8s\n",
      "[CV 4/4] END kmeans__init=k-means++, kmeans__max_iter=100, kmeans__n_clusters=4, kmeans__n_init=5, kmeans__tol=0.0001;, score=-2388946.062 total time=   2.6s\n",
      "[CV 1/4] END kmeans__init=k-means++, kmeans__max_iter=100, kmeans__n_clusters=4, kmeans__n_init=5, kmeans__tol=0.01;, score=-2359709.941 total time=   2.1s\n",
      "[CV 2/4] END kmeans__init=k-means++, kmeans__max_iter=100, kmeans__n_clusters=4, kmeans__n_init=5, kmeans__tol=0.01;, score=-2417609.019 total time=   1.8s\n",
      "[CV 3/4] END kmeans__init=k-means++, kmeans__max_iter=100, kmeans__n_clusters=4, kmeans__n_init=5, kmeans__tol=0.01;, score=-2390771.580 total time=   2.4s\n",
      "[CV 4/4] END kmeans__init=k-means++, kmeans__max_iter=100, kmeans__n_clusters=4, kmeans__n_init=5, kmeans__tol=0.01;, score=-2389158.385 total time=   2.5s\n",
      "[CV 1/4] END kmeans__init=k-means++, kmeans__max_iter=300, kmeans__n_clusters=2, kmeans__n_init=1, kmeans__tol=0.0001;, score=-2373649.863 total time=   1.4s\n",
      "[CV 2/4] END kmeans__init=k-means++, kmeans__max_iter=300, kmeans__n_clusters=2, kmeans__n_init=1, kmeans__tol=0.0001;, score=-2422123.000 total time=   1.7s\n",
      "[CV 3/4] END kmeans__init=k-means++, kmeans__max_iter=300, kmeans__n_clusters=2, kmeans__n_init=1, kmeans__tol=0.0001;, score=-2403313.291 total time=   1.4s\n",
      "[CV 4/4] END kmeans__init=k-means++, kmeans__max_iter=300, kmeans__n_clusters=2, kmeans__n_init=1, kmeans__tol=0.0001;, score=-2401611.948 total time=   1.4s\n",
      "[CV 1/4] END kmeans__init=k-means++, kmeans__max_iter=300, kmeans__n_clusters=2, kmeans__n_init=1, kmeans__tol=0.01;, score=-2373649.863 total time=   1.2s\n",
      "[CV 2/4] END kmeans__init=k-means++, kmeans__max_iter=300, kmeans__n_clusters=2, kmeans__n_init=1, kmeans__tol=0.01;, score=-2422123.000 total time=   1.2s\n",
      "[CV 3/4] END kmeans__init=k-means++, kmeans__max_iter=300, kmeans__n_clusters=2, kmeans__n_init=1, kmeans__tol=0.01;, score=-2403313.291 total time=   1.5s\n",
      "[CV 4/4] END kmeans__init=k-means++, kmeans__max_iter=300, kmeans__n_clusters=2, kmeans__n_init=1, kmeans__tol=0.01;, score=-2401611.948 total time=   1.4s\n",
      "[CV 1/4] END kmeans__init=k-means++, kmeans__max_iter=300, kmeans__n_clusters=2, kmeans__n_init=5, kmeans__tol=0.0001;, score=-2372542.394 total time=   1.6s\n",
      "[CV 2/4] END kmeans__init=k-means++, kmeans__max_iter=300, kmeans__n_clusters=2, kmeans__n_init=5, kmeans__tol=0.0001;, score=-2417613.765 total time=   2.0s\n",
      "[CV 3/4] END kmeans__init=k-means++, kmeans__max_iter=300, kmeans__n_clusters=2, kmeans__n_init=5, kmeans__tol=0.0001;, score=-2395465.944 total time=   3.3s\n",
      "[CV 4/4] END kmeans__init=k-means++, kmeans__max_iter=300, kmeans__n_clusters=2, kmeans__n_init=5, kmeans__tol=0.0001;, score=-2394539.281 total time=   1.7s\n",
      "[CV 1/4] END kmeans__init=k-means++, kmeans__max_iter=300, kmeans__n_clusters=2, kmeans__n_init=5, kmeans__tol=0.01;, score=-2372542.394 total time=   2.0s\n",
      "[CV 2/4] END kmeans__init=k-means++, kmeans__max_iter=300, kmeans__n_clusters=2, kmeans__n_init=5, kmeans__tol=0.01;, score=-2417624.716 total time=   1.8s\n",
      "[CV 3/4] END kmeans__init=k-means++, kmeans__max_iter=300, kmeans__n_clusters=2, kmeans__n_init=5, kmeans__tol=0.01;, score=-2395660.275 total time=   2.4s\n",
      "[CV 4/4] END kmeans__init=k-means++, kmeans__max_iter=300, kmeans__n_clusters=2, kmeans__n_init=5, kmeans__tol=0.01;, score=-2394539.281 total time=   1.9s\n",
      "[CV 1/4] END kmeans__init=k-means++, kmeans__max_iter=300, kmeans__n_clusters=3, kmeans__n_init=1, kmeans__tol=0.0001;, score=-2368790.764 total time=   1.5s\n",
      "[CV 2/4] END kmeans__init=k-means++, kmeans__max_iter=300, kmeans__n_clusters=3, kmeans__n_init=1, kmeans__tol=0.0001;, score=-2419326.011 total time=   1.5s\n",
      "[CV 3/4] END kmeans__init=k-means++, kmeans__max_iter=300, kmeans__n_clusters=3, kmeans__n_init=1, kmeans__tol=0.0001;, score=-2394537.037 total time=   2.1s\n",
      "[CV 4/4] END kmeans__init=k-means++, kmeans__max_iter=300, kmeans__n_clusters=3, kmeans__n_init=1, kmeans__tol=0.0001;, score=-2396692.467 total time=   1.3s\n",
      "[CV 1/4] END kmeans__init=k-means++, kmeans__max_iter=300, kmeans__n_clusters=3, kmeans__n_init=1, kmeans__tol=0.01;, score=-2368790.764 total time=   1.3s\n",
      "[CV 2/4] END kmeans__init=k-means++, kmeans__max_iter=300, kmeans__n_clusters=3, kmeans__n_init=1, kmeans__tol=0.01;, score=-2419326.011 total time=   1.2s\n",
      "[CV 3/4] END kmeans__init=k-means++, kmeans__max_iter=300, kmeans__n_clusters=3, kmeans__n_init=1, kmeans__tol=0.01;, score=-2394755.568 total time=   1.5s\n",
      "[CV 4/4] END kmeans__init=k-means++, kmeans__max_iter=300, kmeans__n_clusters=3, kmeans__n_init=1, kmeans__tol=0.01;, score=-2396692.467 total time=   1.4s\n",
      "[CV 1/4] END kmeans__init=k-means++, kmeans__max_iter=300, kmeans__n_clusters=3, kmeans__n_init=5, kmeans__tol=0.0001;, score=-2358345.724 total time=   3.3s\n",
      "[CV 2/4] END kmeans__init=k-means++, kmeans__max_iter=300, kmeans__n_clusters=3, kmeans__n_init=5, kmeans__tol=0.0001;, score=-2414646.572 total time=   2.2s\n",
      "[CV 3/4] END kmeans__init=k-means++, kmeans__max_iter=300, kmeans__n_clusters=3, kmeans__n_init=5, kmeans__tol=0.0001;, score=-2394537.037 total time=   2.7s\n",
      "[CV 4/4] END kmeans__init=k-means++, kmeans__max_iter=300, kmeans__n_clusters=3, kmeans__n_init=5, kmeans__tol=0.0001;, score=-2390104.654 total time=   2.4s\n",
      "[CV 1/4] END kmeans__init=k-means++, kmeans__max_iter=300, kmeans__n_clusters=3, kmeans__n_init=5, kmeans__tol=0.01;, score=-2363692.017 total time=   2.9s\n",
      "[CV 2/4] END kmeans__init=k-means++, kmeans__max_iter=300, kmeans__n_clusters=3, kmeans__n_init=5, kmeans__tol=0.01;, score=-2414646.392 total time=   1.8s\n",
      "[CV 3/4] END kmeans__init=k-means++, kmeans__max_iter=300, kmeans__n_clusters=3, kmeans__n_init=5, kmeans__tol=0.01;, score=-2394755.568 total time=   2.5s\n",
      "[CV 4/4] END kmeans__init=k-means++, kmeans__max_iter=300, kmeans__n_clusters=3, kmeans__n_init=5, kmeans__tol=0.01;, score=-2390104.654 total time=   1.8s\n",
      "[CV 1/4] END kmeans__init=k-means++, kmeans__max_iter=300, kmeans__n_clusters=4, kmeans__n_init=1, kmeans__tol=0.0001;, score=-2367842.360 total time=   1.3s\n",
      "[CV 2/4] END kmeans__init=k-means++, kmeans__max_iter=300, kmeans__n_clusters=4, kmeans__n_init=1, kmeans__tol=0.0001;, score=-2410695.613 total time=   1.2s\n",
      "[CV 3/4] END kmeans__init=k-means++, kmeans__max_iter=300, kmeans__n_clusters=4, kmeans__n_init=1, kmeans__tol=0.0001;, score=-2394535.803 total time=   1.8s\n",
      "[CV 4/4] END kmeans__init=k-means++, kmeans__max_iter=300, kmeans__n_clusters=4, kmeans__n_init=1, kmeans__tol=0.0001;, score=-2387626.925 total time=   1.2s\n",
      "[CV 1/4] END kmeans__init=k-means++, kmeans__max_iter=300, kmeans__n_clusters=4, kmeans__n_init=1, kmeans__tol=0.01;, score=-2367842.360 total time=   1.2s\n",
      "[CV 2/4] END kmeans__init=k-means++, kmeans__max_iter=300, kmeans__n_clusters=4, kmeans__n_init=1, kmeans__tol=0.01;, score=-2410695.613 total time=   1.1s\n",
      "[CV 3/4] END kmeans__init=k-means++, kmeans__max_iter=300, kmeans__n_clusters=4, kmeans__n_init=1, kmeans__tol=0.01;, score=-2394750.054 total time=   1.3s\n",
      "[CV 4/4] END kmeans__init=k-means++, kmeans__max_iter=300, kmeans__n_clusters=4, kmeans__n_init=1, kmeans__tol=0.01;, score=-2387626.925 total time=   1.1s\n",
      "[CV 1/4] END kmeans__init=k-means++, kmeans__max_iter=300, kmeans__n_clusters=4, kmeans__n_init=5, kmeans__tol=0.0001;, score=-2359704.162 total time=   1.9s\n",
      "[CV 2/4] END kmeans__init=k-means++, kmeans__max_iter=300, kmeans__n_clusters=4, kmeans__n_init=5, kmeans__tol=0.0001;, score=-2417602.778 total time=   1.9s\n",
      "[CV 3/4] END kmeans__init=k-means++, kmeans__max_iter=300, kmeans__n_clusters=4, kmeans__n_init=5, kmeans__tol=0.0001;, score=-2390630.426 total time=   3.3s\n",
      "[CV 4/4] END kmeans__init=k-means++, kmeans__max_iter=300, kmeans__n_clusters=4, kmeans__n_init=5, kmeans__tol=0.0001;, score=-2388946.062 total time=   3.0s\n",
      "[CV 1/4] END kmeans__init=k-means++, kmeans__max_iter=300, kmeans__n_clusters=4, kmeans__n_init=5, kmeans__tol=0.01;, score=-2359709.941 total time=   2.3s\n",
      "[CV 2/4] END kmeans__init=k-means++, kmeans__max_iter=300, kmeans__n_clusters=4, kmeans__n_init=5, kmeans__tol=0.01;, score=-2417609.019 total time=   2.2s\n",
      "[CV 3/4] END kmeans__init=k-means++, kmeans__max_iter=300, kmeans__n_clusters=4, kmeans__n_init=5, kmeans__tol=0.01;, score=-2390771.580 total time=   3.1s\n",
      "[CV 4/4] END kmeans__init=k-means++, kmeans__max_iter=300, kmeans__n_clusters=4, kmeans__n_init=5, kmeans__tol=0.01;, score=-2389158.385 total time=   2.2s\n",
      "[CV 1/4] END kmeans__init=random, kmeans__max_iter=100, kmeans__n_clusters=2, kmeans__n_init=1, kmeans__tol=0.0001;, score=-2371883.668 total time=   1.2s\n",
      "[CV 2/4] END kmeans__init=random, kmeans__max_iter=100, kmeans__n_clusters=2, kmeans__n_init=1, kmeans__tol=0.0001;, score=-2423863.381 total time=   1.1s\n",
      "[CV 3/4] END kmeans__init=random, kmeans__max_iter=100, kmeans__n_clusters=2, kmeans__n_init=1, kmeans__tol=0.0001;, score=-2390927.861 total time=   1.2s\n",
      "[CV 4/4] END kmeans__init=random, kmeans__max_iter=100, kmeans__n_clusters=2, kmeans__n_init=1, kmeans__tol=0.0001;, score=-2401613.965 total time=   1.1s\n",
      "[CV 1/4] END kmeans__init=random, kmeans__max_iter=100, kmeans__n_clusters=2, kmeans__n_init=1, kmeans__tol=0.01;, score=-2371883.668 total time=   1.0s\n",
      "[CV 2/4] END kmeans__init=random, kmeans__max_iter=100, kmeans__n_clusters=2, kmeans__n_init=1, kmeans__tol=0.01;, score=-2423863.381 total time=   1.0s\n",
      "[CV 3/4] END kmeans__init=random, kmeans__max_iter=100, kmeans__n_clusters=2, kmeans__n_init=1, kmeans__tol=0.01;, score=-2390927.861 total time=   1.1s\n",
      "[CV 4/4] END kmeans__init=random, kmeans__max_iter=100, kmeans__n_clusters=2, kmeans__n_init=1, kmeans__tol=0.01;, score=-2401613.965 total time=   1.0s\n",
      "[CV 1/4] END kmeans__init=random, kmeans__max_iter=100, kmeans__n_clusters=2, kmeans__n_init=5, kmeans__tol=0.0001;, score=-2371634.284 total time=   1.5s\n",
      "[CV 2/4] END kmeans__init=random, kmeans__max_iter=100, kmeans__n_clusters=2, kmeans__n_init=5, kmeans__tol=0.0001;, score=-2420278.617 total time=   1.5s\n",
      "[CV 3/4] END kmeans__init=random, kmeans__max_iter=100, kmeans__n_clusters=2, kmeans__n_init=5, kmeans__tol=0.0001;, score=-2395399.995 total time=   2.1s\n",
      "[CV 4/4] END kmeans__init=random, kmeans__max_iter=100, kmeans__n_clusters=2, kmeans__n_init=5, kmeans__tol=0.0001;, score=-2401613.166 total time=   1.4s\n",
      "[CV 1/4] END kmeans__init=random, kmeans__max_iter=100, kmeans__n_clusters=2, kmeans__n_init=5, kmeans__tol=0.01;, score=-2371634.284 total time=   1.5s\n",
      "[CV 2/4] END kmeans__init=random, kmeans__max_iter=100, kmeans__n_clusters=2, kmeans__n_init=5, kmeans__tol=0.01;, score=-2420278.617 total time=   1.4s\n",
      "[CV 3/4] END kmeans__init=random, kmeans__max_iter=100, kmeans__n_clusters=2, kmeans__n_init=5, kmeans__tol=0.01;, score=-2395394.694 total time=   1.8s\n",
      "[CV 4/4] END kmeans__init=random, kmeans__max_iter=100, kmeans__n_clusters=2, kmeans__n_init=5, kmeans__tol=0.01;, score=-2401613.166 total time=   1.3s\n",
      "[CV 1/4] END kmeans__init=random, kmeans__max_iter=100, kmeans__n_clusters=3, kmeans__n_init=1, kmeans__tol=0.0001;, score=-2367791.145 total time=   1.0s\n",
      "[CV 2/4] END kmeans__init=random, kmeans__max_iter=100, kmeans__n_clusters=3, kmeans__n_init=1, kmeans__tol=0.0001;, score=-2423861.891 total time=   1.1s\n",
      "[CV 3/4] END kmeans__init=random, kmeans__max_iter=100, kmeans__n_clusters=3, kmeans__n_init=1, kmeans__tol=0.0001;, score=-2389449.872 total time=   1.1s\n",
      "[CV 4/4] END kmeans__init=random, kmeans__max_iter=100, kmeans__n_clusters=3, kmeans__n_init=1, kmeans__tol=0.0001;, score=-2400136.126 total time=   1.2s\n",
      "[CV 1/4] END kmeans__init=random, kmeans__max_iter=100, kmeans__n_clusters=3, kmeans__n_init=1, kmeans__tol=0.01;, score=-2367791.145 total time=   1.0s\n",
      "[CV 2/4] END kmeans__init=random, kmeans__max_iter=100, kmeans__n_clusters=3, kmeans__n_init=1, kmeans__tol=0.01;, score=-2423861.891 total time=   1.1s\n",
      "[CV 3/4] END kmeans__init=random, kmeans__max_iter=100, kmeans__n_clusters=3, kmeans__n_init=1, kmeans__tol=0.01;, score=-2389449.872 total time=   1.4s\n",
      "[CV 4/4] END kmeans__init=random, kmeans__max_iter=100, kmeans__n_clusters=3, kmeans__n_init=1, kmeans__tol=0.01;, score=-2400136.126 total time=   1.0s\n",
      "[CV 1/4] END kmeans__init=random, kmeans__max_iter=100, kmeans__n_clusters=3, kmeans__n_init=5, kmeans__tol=0.0001;, score=-2365329.216 total time=   1.6s\n",
      "[CV 2/4] END kmeans__init=random, kmeans__max_iter=100, kmeans__n_clusters=3, kmeans__n_init=5, kmeans__tol=0.0001;, score=-2414656.282 total time=   2.2s\n",
      "[CV 3/4] END kmeans__init=random, kmeans__max_iter=100, kmeans__n_clusters=3, kmeans__n_init=5, kmeans__tol=0.0001;, score=-2388241.174 total time=   2.1s\n",
      "[CV 4/4] END kmeans__init=random, kmeans__max_iter=100, kmeans__n_clusters=3, kmeans__n_init=5, kmeans__tol=0.0001;, score=-2388003.299 total time=   2.1s\n",
      "[CV 1/4] END kmeans__init=random, kmeans__max_iter=100, kmeans__n_clusters=3, kmeans__n_init=5, kmeans__tol=0.01;, score=-2365329.216 total time=   2.0s\n",
      "[CV 2/4] END kmeans__init=random, kmeans__max_iter=100, kmeans__n_clusters=3, kmeans__n_init=5, kmeans__tol=0.01;, score=-2414662.321 total time=   1.9s\n",
      "[CV 3/4] END kmeans__init=random, kmeans__max_iter=100, kmeans__n_clusters=3, kmeans__n_init=5, kmeans__tol=0.01;, score=-2388243.289 total time=   2.9s\n",
      "[CV 4/4] END kmeans__init=random, kmeans__max_iter=100, kmeans__n_clusters=3, kmeans__n_init=5, kmeans__tol=0.01;, score=-2387912.009 total time=   2.2s\n",
      "[CV 1/4] END kmeans__init=random, kmeans__max_iter=100, kmeans__n_clusters=4, kmeans__n_init=1, kmeans__tol=0.0001;, score=-2364285.164 total time=   1.3s\n",
      "[CV 2/4] END kmeans__init=random, kmeans__max_iter=100, kmeans__n_clusters=4, kmeans__n_init=1, kmeans__tol=0.0001;, score=-2420551.937 total time=   1.4s\n",
      "[CV 3/4] END kmeans__init=random, kmeans__max_iter=100, kmeans__n_clusters=4, kmeans__n_init=1, kmeans__tol=0.0001;, score=-2383608.606 total time=   1.3s\n",
      "[CV 4/4] END kmeans__init=random, kmeans__max_iter=100, kmeans__n_clusters=4, kmeans__n_init=1, kmeans__tol=0.0001;, score=-2397889.717 total time=   1.3s\n",
      "[CV 1/4] END kmeans__init=random, kmeans__max_iter=100, kmeans__n_clusters=4, kmeans__n_init=1, kmeans__tol=0.01;, score=-2364285.164 total time=   1.8s\n",
      "[CV 2/4] END kmeans__init=random, kmeans__max_iter=100, kmeans__n_clusters=4, kmeans__n_init=1, kmeans__tol=0.01;, score=-2420551.937 total time=   1.2s\n",
      "[CV 3/4] END kmeans__init=random, kmeans__max_iter=100, kmeans__n_clusters=4, kmeans__n_init=1, kmeans__tol=0.01;, score=-2383608.606 total time=   1.1s\n",
      "[CV 4/4] END kmeans__init=random, kmeans__max_iter=100, kmeans__n_clusters=4, kmeans__n_init=1, kmeans__tol=0.01;, score=-2397889.717 total time=   1.1s\n",
      "[CV 1/4] END kmeans__init=random, kmeans__max_iter=100, kmeans__n_clusters=4, kmeans__n_init=5, kmeans__tol=0.0001;, score=-2362044.106 total time=   1.8s\n",
      "[CV 2/4] END kmeans__init=random, kmeans__max_iter=100, kmeans__n_clusters=4, kmeans__n_init=5, kmeans__tol=0.0001;, score=-2411581.850 total time=   2.1s\n",
      "[CV 3/4] END kmeans__init=random, kmeans__max_iter=100, kmeans__n_clusters=4, kmeans__n_init=5, kmeans__tol=0.0001;, score=-2385790.655 total time=   2.5s\n",
      "[CV 4/4] END kmeans__init=random, kmeans__max_iter=100, kmeans__n_clusters=4, kmeans__n_init=5, kmeans__tol=0.0001;, score=-2384543.939 total time=   3.0s\n",
      "[CV 1/4] END kmeans__init=random, kmeans__max_iter=100, kmeans__n_clusters=4, kmeans__n_init=5, kmeans__tol=0.01;, score=-2362044.106 total time=   2.0s\n",
      "[CV 2/4] END kmeans__init=random, kmeans__max_iter=100, kmeans__n_clusters=4, kmeans__n_init=5, kmeans__tol=0.01;, score=-2411582.001 total time=   2.2s\n",
      "[CV 3/4] END kmeans__init=random, kmeans__max_iter=100, kmeans__n_clusters=4, kmeans__n_init=5, kmeans__tol=0.01;, score=-2385793.029 total time=   2.1s\n",
      "[CV 4/4] END kmeans__init=random, kmeans__max_iter=100, kmeans__n_clusters=4, kmeans__n_init=5, kmeans__tol=0.01;, score=-2384512.880 total time=   1.9s\n",
      "[CV 1/4] END kmeans__init=random, kmeans__max_iter=300, kmeans__n_clusters=2, kmeans__n_init=1, kmeans__tol=0.0001;, score=-2371883.668 total time=   1.1s\n",
      "[CV 2/4] END kmeans__init=random, kmeans__max_iter=300, kmeans__n_clusters=2, kmeans__n_init=1, kmeans__tol=0.0001;, score=-2423863.381 total time=   1.2s\n",
      "[CV 3/4] END kmeans__init=random, kmeans__max_iter=300, kmeans__n_clusters=2, kmeans__n_init=1, kmeans__tol=0.0001;, score=-2390927.861 total time=   1.3s\n",
      "[CV 4/4] END kmeans__init=random, kmeans__max_iter=300, kmeans__n_clusters=2, kmeans__n_init=1, kmeans__tol=0.0001;, score=-2401613.965 total time=   1.0s\n",
      "[CV 1/4] END kmeans__init=random, kmeans__max_iter=300, kmeans__n_clusters=2, kmeans__n_init=1, kmeans__tol=0.01;, score=-2371883.668 total time=   1.1s\n",
      "[CV 2/4] END kmeans__init=random, kmeans__max_iter=300, kmeans__n_clusters=2, kmeans__n_init=1, kmeans__tol=0.01;, score=-2423863.381 total time=   1.2s\n",
      "[CV 3/4] END kmeans__init=random, kmeans__max_iter=300, kmeans__n_clusters=2, kmeans__n_init=1, kmeans__tol=0.01;, score=-2390927.861 total time=   1.4s\n",
      "[CV 4/4] END kmeans__init=random, kmeans__max_iter=300, kmeans__n_clusters=2, kmeans__n_init=1, kmeans__tol=0.01;, score=-2401613.965 total time=   1.2s\n",
      "[CV 1/4] END kmeans__init=random, kmeans__max_iter=300, kmeans__n_clusters=2, kmeans__n_init=5, kmeans__tol=0.0001;, score=-2371634.284 total time=   1.6s\n",
      "[CV 2/4] END kmeans__init=random, kmeans__max_iter=300, kmeans__n_clusters=2, kmeans__n_init=5, kmeans__tol=0.0001;, score=-2420278.617 total time=   1.5s\n",
      "[CV 3/4] END kmeans__init=random, kmeans__max_iter=300, kmeans__n_clusters=2, kmeans__n_init=5, kmeans__tol=0.0001;, score=-2395399.995 total time=   2.0s\n",
      "[CV 4/4] END kmeans__init=random, kmeans__max_iter=300, kmeans__n_clusters=2, kmeans__n_init=5, kmeans__tol=0.0001;, score=-2401613.166 total time=   1.4s\n",
      "[CV 1/4] END kmeans__init=random, kmeans__max_iter=300, kmeans__n_clusters=2, kmeans__n_init=5, kmeans__tol=0.01;, score=-2371634.284 total time=   1.7s\n",
      "[CV 2/4] END kmeans__init=random, kmeans__max_iter=300, kmeans__n_clusters=2, kmeans__n_init=5, kmeans__tol=0.01;, score=-2420278.617 total time=   1.5s\n",
      "[CV 3/4] END kmeans__init=random, kmeans__max_iter=300, kmeans__n_clusters=2, kmeans__n_init=5, kmeans__tol=0.01;, score=-2395394.694 total time=   1.8s\n",
      "[CV 4/4] END kmeans__init=random, kmeans__max_iter=300, kmeans__n_clusters=2, kmeans__n_init=5, kmeans__tol=0.01;, score=-2401613.166 total time=   1.4s\n",
      "[CV 1/4] END kmeans__init=random, kmeans__max_iter=300, kmeans__n_clusters=3, kmeans__n_init=1, kmeans__tol=0.0001;, score=-2367791.145 total time=   1.1s\n",
      "[CV 2/4] END kmeans__init=random, kmeans__max_iter=300, kmeans__n_clusters=3, kmeans__n_init=1, kmeans__tol=0.0001;, score=-2423861.891 total time=   1.2s\n",
      "[CV 3/4] END kmeans__init=random, kmeans__max_iter=300, kmeans__n_clusters=3, kmeans__n_init=1, kmeans__tol=0.0001;, score=-2389449.872 total time=   1.2s\n",
      "[CV 4/4] END kmeans__init=random, kmeans__max_iter=300, kmeans__n_clusters=3, kmeans__n_init=1, kmeans__tol=0.0001;, score=-2400136.126 total time=   1.1s\n",
      "[CV 1/4] END kmeans__init=random, kmeans__max_iter=300, kmeans__n_clusters=3, kmeans__n_init=1, kmeans__tol=0.01;, score=-2367791.145 total time=   1.1s\n",
      "[CV 2/4] END kmeans__init=random, kmeans__max_iter=300, kmeans__n_clusters=3, kmeans__n_init=1, kmeans__tol=0.01;, score=-2423861.891 total time=   1.0s\n",
      "[CV 3/4] END kmeans__init=random, kmeans__max_iter=300, kmeans__n_clusters=3, kmeans__n_init=1, kmeans__tol=0.01;, score=-2389449.872 total time=   1.5s\n",
      "[CV 4/4] END kmeans__init=random, kmeans__max_iter=300, kmeans__n_clusters=3, kmeans__n_init=1, kmeans__tol=0.01;, score=-2400136.126 total time=   1.1s\n",
      "[CV 1/4] END kmeans__init=random, kmeans__max_iter=300, kmeans__n_clusters=3, kmeans__n_init=5, kmeans__tol=0.0001;, score=-2365329.216 total time=   1.7s\n",
      "[CV 2/4] END kmeans__init=random, kmeans__max_iter=300, kmeans__n_clusters=3, kmeans__n_init=5, kmeans__tol=0.0001;, score=-2414656.282 total time=   2.0s\n",
      "[CV 3/4] END kmeans__init=random, kmeans__max_iter=300, kmeans__n_clusters=3, kmeans__n_init=5, kmeans__tol=0.0001;, score=-2388241.174 total time=   2.4s\n",
      "[CV 4/4] END kmeans__init=random, kmeans__max_iter=300, kmeans__n_clusters=3, kmeans__n_init=5, kmeans__tol=0.0001;, score=-2388003.299 total time=   2.4s\n",
      "[CV 1/4] END kmeans__init=random, kmeans__max_iter=300, kmeans__n_clusters=3, kmeans__n_init=5, kmeans__tol=0.01;, score=-2365329.216 total time=   1.6s\n",
      "[CV 2/4] END kmeans__init=random, kmeans__max_iter=300, kmeans__n_clusters=3, kmeans__n_init=5, kmeans__tol=0.01;, score=-2414662.321 total time=   2.0s\n",
      "[CV 3/4] END kmeans__init=random, kmeans__max_iter=300, kmeans__n_clusters=3, kmeans__n_init=5, kmeans__tol=0.01;, score=-2388243.289 total time=   2.9s\n",
      "[CV 4/4] END kmeans__init=random, kmeans__max_iter=300, kmeans__n_clusters=3, kmeans__n_init=5, kmeans__tol=0.01;, score=-2387912.009 total time=   2.2s\n",
      "[CV 1/4] END kmeans__init=random, kmeans__max_iter=300, kmeans__n_clusters=4, kmeans__n_init=1, kmeans__tol=0.0001;, score=-2364285.164 total time=   1.4s\n",
      "[CV 2/4] END kmeans__init=random, kmeans__max_iter=300, kmeans__n_clusters=4, kmeans__n_init=1, kmeans__tol=0.0001;, score=-2420551.937 total time=   1.1s\n",
      "[CV 3/4] END kmeans__init=random, kmeans__max_iter=300, kmeans__n_clusters=4, kmeans__n_init=1, kmeans__tol=0.0001;, score=-2383608.606 total time=   1.1s\n",
      "[CV 4/4] END kmeans__init=random, kmeans__max_iter=300, kmeans__n_clusters=4, kmeans__n_init=1, kmeans__tol=0.0001;, score=-2397889.717 total time=   1.4s\n",
      "[CV 1/4] END kmeans__init=random, kmeans__max_iter=300, kmeans__n_clusters=4, kmeans__n_init=1, kmeans__tol=0.01;, score=-2364285.164 total time=   1.7s\n",
      "[CV 2/4] END kmeans__init=random, kmeans__max_iter=300, kmeans__n_clusters=4, kmeans__n_init=1, kmeans__tol=0.01;, score=-2420551.937 total time=   1.4s\n",
      "[CV 3/4] END kmeans__init=random, kmeans__max_iter=300, kmeans__n_clusters=4, kmeans__n_init=1, kmeans__tol=0.01;, score=-2383608.606 total time=   1.4s\n",
      "[CV 4/4] END kmeans__init=random, kmeans__max_iter=300, kmeans__n_clusters=4, kmeans__n_init=1, kmeans__tol=0.01;, score=-2397889.717 total time=   1.4s\n",
      "[CV 1/4] END kmeans__init=random, kmeans__max_iter=300, kmeans__n_clusters=4, kmeans__n_init=5, kmeans__tol=0.0001;, score=-2362044.106 total time=   1.6s\n",
      "[CV 2/4] END kmeans__init=random, kmeans__max_iter=300, kmeans__n_clusters=4, kmeans__n_init=5, kmeans__tol=0.0001;, score=-2411581.850 total time=   2.5s\n",
      "[CV 3/4] END kmeans__init=random, kmeans__max_iter=300, kmeans__n_clusters=4, kmeans__n_init=5, kmeans__tol=0.0001;, score=-2385790.655 total time=   2.5s\n",
      "[CV 4/4] END kmeans__init=random, kmeans__max_iter=300, kmeans__n_clusters=4, kmeans__n_init=5, kmeans__tol=0.0001;, score=-2384543.939 total time=   2.7s\n",
      "[CV 1/4] END kmeans__init=random, kmeans__max_iter=300, kmeans__n_clusters=4, kmeans__n_init=5, kmeans__tol=0.01;, score=-2362044.106 total time=   1.9s\n",
      "[CV 2/4] END kmeans__init=random, kmeans__max_iter=300, kmeans__n_clusters=4, kmeans__n_init=5, kmeans__tol=0.01;, score=-2411582.001 total time=   2.0s\n",
      "[CV 3/4] END kmeans__init=random, kmeans__max_iter=300, kmeans__n_clusters=4, kmeans__n_init=5, kmeans__tol=0.01;, score=-2385793.029 total time=   2.3s\n",
      "[CV 4/4] END kmeans__init=random, kmeans__max_iter=300, kmeans__n_clusters=4, kmeans__n_init=5, kmeans__tol=0.01;, score=-2384512.880 total time=   2.2s\n",
      "kmeans2_model\n",
      "{'kmeans__init': 'random', 'kmeans__max_iter': 100, 'kmeans__n_clusters': 4, 'kmeans__n_init': 5, 'kmeans__tol': 0.01}\n",
      "Índice de Silhouette: 0.40\n",
      "Índice de Calinski-Harabasz: 1728.73\n"
     ]
    }
   ],
   "source": [
    "from sklearn.pipeline import Pipeline\n",
    "from sklearn.preprocessing import StandardScaler\n",
    "from sklearn.cluster import KMeans\n",
    "from sklearn.model_selection import GridSearchCV\n",
    "from sklearn.metrics import silhouette_score, calinski_harabasz_score\n",
    "\n",
    "pipeline = Pipeline([\n",
    "    ('scaler', StandardScaler()),  # Escalador\n",
    "    ('kmeans', KMeans(random_state=42))  # Clasificador K-means\n",
    "])\n",
    "\n",
    "parameters = {\n",
    "    'kmeans__n_clusters': [2, 3, 4],\n",
    "    'kmeans__init': ['k-means++', 'random'],\n",
    "    'kmeans__n_init': [1, 5],\n",
    "    'kmeans__max_iter': [100, 300],\n",
    "    'kmeans__tol': [1e-4, 1e-2]\n",
    "}\n",
    "\n",
    "# Realizar la búsqueda de hiperparámetros utilizando validación cruzada\n",
    "grid_search = GridSearchCV(pipeline, parameters, cv=4, verbose=3)\n",
    "grid_search.fit(X_train)\n",
    "\n",
    "# Obtener el mejor modelo\n",
    "kmeans2_model = grid_search.best_estimator_\n",
    "\n",
    "print('kmeans2_model')\n",
    "print(grid_search.best_params_)\n",
    "\n",
    "# Predecir con el mejor modelo en los datos de prueba\n",
    "y_pred = kmeans2_model.predict(X_test)\n",
    "\n",
    "# Calcular el índice de Silhouette\n",
    "silhouette = silhouette_score(X_test, y_pred)\n",
    "print(f'Índice de Silhouette: {silhouette:.2f}')\n",
    "\n",
    "# Calcular el índice de Calinski-Harabasz\n",
    "ch_score = calinski_harabasz_score(X_test, y_pred)\n",
    "print(f'Índice de Calinski-Harabasz: {ch_score:.2f}')"
   ]
  },
  {
   "attachments": {},
   "cell_type": "markdown",
   "metadata": {},
   "source": [
    "## K-MEANS PRUEBA 3"
   ]
  },
  {
   "cell_type": "code",
   "execution_count": 12,
   "metadata": {},
   "outputs": [
    {
     "name": "stdout",
     "output_type": "stream",
     "text": [
      "Fitting 3 folds for each of 6 candidates, totalling 18 fits\n"
     ]
    },
    {
     "name": "stderr",
     "output_type": "stream",
     "text": [
      "c:\\Users\\34680\\AppData\\Local\\Programs\\Python\\Python311\\Lib\\site-packages\\sklearn\\cluster\\_kmeans.py:870: FutureWarning: The default value of `n_init` will change from 10 to 'auto' in 1.4. Set the value of `n_init` explicitly to suppress the warning\n",
      "  warnings.warn(\n"
     ]
    },
    {
     "name": "stdout",
     "output_type": "stream",
     "text": [
      "[CV 1/3] END kmeans__init=k-means++, kmeans__n_clusters=2;, score=-3022067.489 total time=   5.0s\n"
     ]
    },
    {
     "name": "stderr",
     "output_type": "stream",
     "text": [
      "c:\\Users\\34680\\AppData\\Local\\Programs\\Python\\Python311\\Lib\\site-packages\\sklearn\\cluster\\_kmeans.py:870: FutureWarning: The default value of `n_init` will change from 10 to 'auto' in 1.4. Set the value of `n_init` explicitly to suppress the warning\n",
      "  warnings.warn(\n"
     ]
    },
    {
     "name": "stdout",
     "output_type": "stream",
     "text": [
      "[CV 2/3] END kmeans__init=k-means++, kmeans__n_clusters=2;, score=-3270671.651 total time=   5.1s\n"
     ]
    },
    {
     "name": "stderr",
     "output_type": "stream",
     "text": [
      "c:\\Users\\34680\\AppData\\Local\\Programs\\Python\\Python311\\Lib\\site-packages\\sklearn\\cluster\\_kmeans.py:870: FutureWarning: The default value of `n_init` will change from 10 to 'auto' in 1.4. Set the value of `n_init` explicitly to suppress the warning\n",
      "  warnings.warn(\n"
     ]
    },
    {
     "name": "stdout",
     "output_type": "stream",
     "text": [
      "[CV 3/3] END kmeans__init=k-means++, kmeans__n_clusters=2;, score=-2974419.972 total time=   5.6s\n"
     ]
    },
    {
     "name": "stderr",
     "output_type": "stream",
     "text": [
      "c:\\Users\\34680\\AppData\\Local\\Programs\\Python\\Python311\\Lib\\site-packages\\sklearn\\cluster\\_kmeans.py:870: FutureWarning: The default value of `n_init` will change from 10 to 'auto' in 1.4. Set the value of `n_init` explicitly to suppress the warning\n",
      "  warnings.warn(\n"
     ]
    },
    {
     "name": "stdout",
     "output_type": "stream",
     "text": [
      "[CV 1/3] END kmeans__init=k-means++, kmeans__n_clusters=3;, score=-3015880.302 total time=   5.7s\n"
     ]
    },
    {
     "name": "stderr",
     "output_type": "stream",
     "text": [
      "c:\\Users\\34680\\AppData\\Local\\Programs\\Python\\Python311\\Lib\\site-packages\\sklearn\\cluster\\_kmeans.py:870: FutureWarning: The default value of `n_init` will change from 10 to 'auto' in 1.4. Set the value of `n_init` explicitly to suppress the warning\n",
      "  warnings.warn(\n"
     ]
    },
    {
     "name": "stdout",
     "output_type": "stream",
     "text": [
      "[CV 2/3] END kmeans__init=k-means++, kmeans__n_clusters=3;, score=-3266778.255 total time=   6.2s\n"
     ]
    },
    {
     "name": "stderr",
     "output_type": "stream",
     "text": [
      "c:\\Users\\34680\\AppData\\Local\\Programs\\Python\\Python311\\Lib\\site-packages\\sklearn\\cluster\\_kmeans.py:870: FutureWarning: The default value of `n_init` will change from 10 to 'auto' in 1.4. Set the value of `n_init` explicitly to suppress the warning\n",
      "  warnings.warn(\n"
     ]
    },
    {
     "name": "stdout",
     "output_type": "stream",
     "text": [
      "[CV 3/3] END kmeans__init=k-means++, kmeans__n_clusters=3;, score=-2969624.730 total time=   6.0s\n"
     ]
    },
    {
     "name": "stderr",
     "output_type": "stream",
     "text": [
      "c:\\Users\\34680\\AppData\\Local\\Programs\\Python\\Python311\\Lib\\site-packages\\sklearn\\cluster\\_kmeans.py:870: FutureWarning: The default value of `n_init` will change from 10 to 'auto' in 1.4. Set the value of `n_init` explicitly to suppress the warning\n",
      "  warnings.warn(\n"
     ]
    },
    {
     "name": "stdout",
     "output_type": "stream",
     "text": [
      "[CV 1/3] END kmeans__init=k-means++, kmeans__n_clusters=4;, score=-3017327.689 total time=   5.8s\n"
     ]
    },
    {
     "name": "stderr",
     "output_type": "stream",
     "text": [
      "c:\\Users\\34680\\AppData\\Local\\Programs\\Python\\Python311\\Lib\\site-packages\\sklearn\\cluster\\_kmeans.py:870: FutureWarning: The default value of `n_init` will change from 10 to 'auto' in 1.4. Set the value of `n_init` explicitly to suppress the warning\n",
      "  warnings.warn(\n"
     ]
    },
    {
     "name": "stdout",
     "output_type": "stream",
     "text": [
      "[CV 2/3] END kmeans__init=k-means++, kmeans__n_clusters=4;, score=-3264624.937 total time=   6.0s\n"
     ]
    },
    {
     "name": "stderr",
     "output_type": "stream",
     "text": [
      "c:\\Users\\34680\\AppData\\Local\\Programs\\Python\\Python311\\Lib\\site-packages\\sklearn\\cluster\\_kmeans.py:870: FutureWarning: The default value of `n_init` will change from 10 to 'auto' in 1.4. Set the value of `n_init` explicitly to suppress the warning\n",
      "  warnings.warn(\n"
     ]
    },
    {
     "name": "stdout",
     "output_type": "stream",
     "text": [
      "[CV 3/3] END kmeans__init=k-means++, kmeans__n_clusters=4;, score=-2960102.741 total time=   5.5s\n"
     ]
    },
    {
     "name": "stderr",
     "output_type": "stream",
     "text": [
      "c:\\Users\\34680\\AppData\\Local\\Programs\\Python\\Python311\\Lib\\site-packages\\sklearn\\cluster\\_kmeans.py:870: FutureWarning: The default value of `n_init` will change from 10 to 'auto' in 1.4. Set the value of `n_init` explicitly to suppress the warning\n",
      "  warnings.warn(\n"
     ]
    },
    {
     "name": "stdout",
     "output_type": "stream",
     "text": [
      "[CV 1/3] END kmeans__init=random, kmeans__n_clusters=2;, score=-3022870.468 total time=   5.3s\n"
     ]
    },
    {
     "name": "stderr",
     "output_type": "stream",
     "text": [
      "c:\\Users\\34680\\AppData\\Local\\Programs\\Python\\Python311\\Lib\\site-packages\\sklearn\\cluster\\_kmeans.py:870: FutureWarning: The default value of `n_init` will change from 10 to 'auto' in 1.4. Set the value of `n_init` explicitly to suppress the warning\n",
      "  warnings.warn(\n"
     ]
    },
    {
     "name": "stdout",
     "output_type": "stream",
     "text": [
      "[CV 2/3] END kmeans__init=random, kmeans__n_clusters=2;, score=-3270633.322 total time=   5.2s\n"
     ]
    },
    {
     "name": "stderr",
     "output_type": "stream",
     "text": [
      "c:\\Users\\34680\\AppData\\Local\\Programs\\Python\\Python311\\Lib\\site-packages\\sklearn\\cluster\\_kmeans.py:870: FutureWarning: The default value of `n_init` will change from 10 to 'auto' in 1.4. Set the value of `n_init` explicitly to suppress the warning\n",
      "  warnings.warn(\n"
     ]
    },
    {
     "name": "stdout",
     "output_type": "stream",
     "text": [
      "[CV 3/3] END kmeans__init=random, kmeans__n_clusters=2;, score=-2974539.814 total time=   7.8s\n"
     ]
    },
    {
     "name": "stderr",
     "output_type": "stream",
     "text": [
      "c:\\Users\\34680\\AppData\\Local\\Programs\\Python\\Python311\\Lib\\site-packages\\sklearn\\cluster\\_kmeans.py:870: FutureWarning: The default value of `n_init` will change from 10 to 'auto' in 1.4. Set the value of `n_init` explicitly to suppress the warning\n",
      "  warnings.warn(\n"
     ]
    },
    {
     "name": "stdout",
     "output_type": "stream",
     "text": [
      "[CV 1/3] END kmeans__init=random, kmeans__n_clusters=3;, score=-3018046.672 total time=   7.0s\n"
     ]
    },
    {
     "name": "stderr",
     "output_type": "stream",
     "text": [
      "c:\\Users\\34680\\AppData\\Local\\Programs\\Python\\Python311\\Lib\\site-packages\\sklearn\\cluster\\_kmeans.py:870: FutureWarning: The default value of `n_init` will change from 10 to 'auto' in 1.4. Set the value of `n_init` explicitly to suppress the warning\n",
      "  warnings.warn(\n"
     ]
    },
    {
     "name": "stdout",
     "output_type": "stream",
     "text": [
      "[CV 2/3] END kmeans__init=random, kmeans__n_clusters=3;, score=-3260942.929 total time=   8.5s\n"
     ]
    },
    {
     "name": "stderr",
     "output_type": "stream",
     "text": [
      "c:\\Users\\34680\\AppData\\Local\\Programs\\Python\\Python311\\Lib\\site-packages\\sklearn\\cluster\\_kmeans.py:870: FutureWarning: The default value of `n_init` will change from 10 to 'auto' in 1.4. Set the value of `n_init` explicitly to suppress the warning\n",
      "  warnings.warn(\n"
     ]
    },
    {
     "name": "stdout",
     "output_type": "stream",
     "text": [
      "[CV 3/3] END kmeans__init=random, kmeans__n_clusters=3;, score=-2964424.163 total time=  10.8s\n"
     ]
    },
    {
     "name": "stderr",
     "output_type": "stream",
     "text": [
      "c:\\Users\\34680\\AppData\\Local\\Programs\\Python\\Python311\\Lib\\site-packages\\sklearn\\cluster\\_kmeans.py:870: FutureWarning: The default value of `n_init` will change from 10 to 'auto' in 1.4. Set the value of `n_init` explicitly to suppress the warning\n",
      "  warnings.warn(\n"
     ]
    },
    {
     "name": "stdout",
     "output_type": "stream",
     "text": [
      "[CV 1/3] END kmeans__init=random, kmeans__n_clusters=4;, score=-3010133.483 total time=   6.2s\n"
     ]
    },
    {
     "name": "stderr",
     "output_type": "stream",
     "text": [
      "c:\\Users\\34680\\AppData\\Local\\Programs\\Python\\Python311\\Lib\\site-packages\\sklearn\\cluster\\_kmeans.py:870: FutureWarning: The default value of `n_init` will change from 10 to 'auto' in 1.4. Set the value of `n_init` explicitly to suppress the warning\n",
      "  warnings.warn(\n"
     ]
    },
    {
     "name": "stdout",
     "output_type": "stream",
     "text": [
      "[CV 2/3] END kmeans__init=random, kmeans__n_clusters=4;, score=-3258286.067 total time=   6.6s\n"
     ]
    },
    {
     "name": "stderr",
     "output_type": "stream",
     "text": [
      "c:\\Users\\34680\\AppData\\Local\\Programs\\Python\\Python311\\Lib\\site-packages\\sklearn\\cluster\\_kmeans.py:870: FutureWarning: The default value of `n_init` will change from 10 to 'auto' in 1.4. Set the value of `n_init` explicitly to suppress the warning\n",
      "  warnings.warn(\n"
     ]
    },
    {
     "name": "stdout",
     "output_type": "stream",
     "text": [
      "[CV 3/3] END kmeans__init=random, kmeans__n_clusters=4;, score=-2961600.646 total time=   8.1s\n"
     ]
    },
    {
     "name": "stderr",
     "output_type": "stream",
     "text": [
      "c:\\Users\\34680\\AppData\\Local\\Programs\\Python\\Python311\\Lib\\site-packages\\sklearn\\cluster\\_kmeans.py:870: FutureWarning: The default value of `n_init` will change from 10 to 'auto' in 1.4. Set the value of `n_init` explicitly to suppress the warning\n",
      "  warnings.warn(\n",
      "c:\\Users\\34680\\AppData\\Local\\Programs\\Python\\Python311\\Lib\\site-packages\\sklearn\\cluster\\_kmeans.py:870: FutureWarning: The default value of `n_init` will change from 10 to 'auto' in 1.4. Set the value of `n_init` explicitly to suppress the warning\n",
      "  warnings.warn(\n",
      "c:\\Users\\34680\\AppData\\Local\\Programs\\Python\\Python311\\Lib\\site-packages\\sklearn\\cluster\\_kmeans.py:870: FutureWarning: The default value of `n_init` will change from 10 to 'auto' in 1.4. Set the value of `n_init` explicitly to suppress the warning\n",
      "  warnings.warn(\n",
      "c:\\Users\\34680\\AppData\\Local\\Programs\\Python\\Python311\\Lib\\site-packages\\sklearn\\cluster\\_kmeans.py:870: FutureWarning: The default value of `n_init` will change from 10 to 'auto' in 1.4. Set the value of `n_init` explicitly to suppress the warning\n",
      "  warnings.warn(\n",
      "c:\\Users\\34680\\AppData\\Local\\Programs\\Python\\Python311\\Lib\\site-packages\\sklearn\\cluster\\_kmeans.py:870: FutureWarning: The default value of `n_init` will change from 10 to 'auto' in 1.4. Set the value of `n_init` explicitly to suppress the warning\n",
      "  warnings.warn(\n",
      "c:\\Users\\34680\\AppData\\Local\\Programs\\Python\\Python311\\Lib\\site-packages\\sklearn\\cluster\\_kmeans.py:870: FutureWarning: The default value of `n_init` will change from 10 to 'auto' in 1.4. Set the value of `n_init` explicitly to suppress the warning\n",
      "  warnings.warn(\n",
      "c:\\Users\\34680\\AppData\\Local\\Programs\\Python\\Python311\\Lib\\site-packages\\sklearn\\cluster\\_kmeans.py:870: FutureWarning: The default value of `n_init` will change from 10 to 'auto' in 1.4. Set the value of `n_init` explicitly to suppress the warning\n",
      "  warnings.warn(\n",
      "c:\\Users\\34680\\AppData\\Local\\Programs\\Python\\Python311\\Lib\\site-packages\\sklearn\\cluster\\_kmeans.py:870: FutureWarning: The default value of `n_init` will change from 10 to 'auto' in 1.4. Set the value of `n_init` explicitly to suppress the warning\n",
      "  warnings.warn(\n",
      "c:\\Users\\34680\\AppData\\Local\\Programs\\Python\\Python311\\Lib\\site-packages\\sklearn\\cluster\\_kmeans.py:870: FutureWarning: The default value of `n_init` will change from 10 to 'auto' in 1.4. Set the value of `n_init` explicitly to suppress the warning\n",
      "  warnings.warn(\n",
      "c:\\Users\\34680\\AppData\\Local\\Programs\\Python\\Python311\\Lib\\site-packages\\sklearn\\cluster\\_kmeans.py:870: FutureWarning: The default value of `n_init` will change from 10 to 'auto' in 1.4. Set the value of `n_init` explicitly to suppress the warning\n",
      "  warnings.warn(\n",
      "c:\\Users\\34680\\AppData\\Local\\Programs\\Python\\Python311\\Lib\\site-packages\\sklearn\\cluster\\_kmeans.py:870: FutureWarning: The default value of `n_init` will change from 10 to 'auto' in 1.4. Set the value of `n_init` explicitly to suppress the warning\n",
      "  warnings.warn(\n",
      "c:\\Users\\34680\\AppData\\Local\\Programs\\Python\\Python311\\Lib\\site-packages\\sklearn\\cluster\\_kmeans.py:870: FutureWarning: The default value of `n_init` will change from 10 to 'auto' in 1.4. Set the value of `n_init` explicitly to suppress the warning\n",
      "  warnings.warn(\n",
      "c:\\Users\\34680\\AppData\\Local\\Programs\\Python\\Python311\\Lib\\site-packages\\sklearn\\cluster\\_kmeans.py:870: FutureWarning: The default value of `n_init` will change from 10 to 'auto' in 1.4. Set the value of `n_init` explicitly to suppress the warning\n",
      "  warnings.warn(\n",
      "c:\\Users\\34680\\AppData\\Local\\Programs\\Python\\Python311\\Lib\\site-packages\\sklearn\\cluster\\_kmeans.py:870: FutureWarning: The default value of `n_init` will change from 10 to 'auto' in 1.4. Set the value of `n_init` explicitly to suppress the warning\n",
      "  warnings.warn(\n",
      "c:\\Users\\34680\\AppData\\Local\\Programs\\Python\\Python311\\Lib\\site-packages\\sklearn\\cluster\\_kmeans.py:870: FutureWarning: The default value of `n_init` will change from 10 to 'auto' in 1.4. Set the value of `n_init` explicitly to suppress the warning\n",
      "  warnings.warn(\n",
      "c:\\Users\\34680\\AppData\\Local\\Programs\\Python\\Python311\\Lib\\site-packages\\sklearn\\cluster\\_kmeans.py:870: FutureWarning: The default value of `n_init` will change from 10 to 'auto' in 1.4. Set the value of `n_init` explicitly to suppress the warning\n",
      "  warnings.warn(\n",
      "c:\\Users\\34680\\AppData\\Local\\Programs\\Python\\Python311\\Lib\\site-packages\\sklearn\\cluster\\_kmeans.py:870: FutureWarning: The default value of `n_init` will change from 10 to 'auto' in 1.4. Set the value of `n_init` explicitly to suppress the warning\n",
      "  warnings.warn(\n",
      "c:\\Users\\34680\\AppData\\Local\\Programs\\Python\\Python311\\Lib\\site-packages\\sklearn\\cluster\\_kmeans.py:870: FutureWarning: The default value of `n_init` will change from 10 to 'auto' in 1.4. Set the value of `n_init` explicitly to suppress the warning\n",
      "  warnings.warn(\n",
      "c:\\Users\\34680\\AppData\\Local\\Programs\\Python\\Python311\\Lib\\site-packages\\sklearn\\cluster\\_kmeans.py:870: FutureWarning: The default value of `n_init` will change from 10 to 'auto' in 1.4. Set the value of `n_init` explicitly to suppress the warning\n",
      "  warnings.warn(\n",
      "c:\\Users\\34680\\AppData\\Local\\Programs\\Python\\Python311\\Lib\\site-packages\\sklearn\\cluster\\_kmeans.py:870: FutureWarning: The default value of `n_init` will change from 10 to 'auto' in 1.4. Set the value of `n_init` explicitly to suppress the warning\n",
      "  warnings.warn(\n",
      "c:\\Users\\34680\\AppData\\Local\\Programs\\Python\\Python311\\Lib\\site-packages\\sklearn\\cluster\\_kmeans.py:870: FutureWarning: The default value of `n_init` will change from 10 to 'auto' in 1.4. Set the value of `n_init` explicitly to suppress the warning\n",
      "  warnings.warn(\n",
      "c:\\Users\\34680\\AppData\\Local\\Programs\\Python\\Python311\\Lib\\site-packages\\sklearn\\cluster\\_kmeans.py:870: FutureWarning: The default value of `n_init` will change from 10 to 'auto' in 1.4. Set the value of `n_init` explicitly to suppress the warning\n",
      "  warnings.warn(\n",
      "c:\\Users\\34680\\AppData\\Local\\Programs\\Python\\Python311\\Lib\\site-packages\\sklearn\\cluster\\_kmeans.py:870: FutureWarning: The default value of `n_init` will change from 10 to 'auto' in 1.4. Set the value of `n_init` explicitly to suppress the warning\n",
      "  warnings.warn(\n",
      "c:\\Users\\34680\\AppData\\Local\\Programs\\Python\\Python311\\Lib\\site-packages\\sklearn\\cluster\\_kmeans.py:870: FutureWarning: The default value of `n_init` will change from 10 to 'auto' in 1.4. Set the value of `n_init` explicitly to suppress the warning\n",
      "  warnings.warn(\n",
      "c:\\Users\\34680\\AppData\\Local\\Programs\\Python\\Python311\\Lib\\site-packages\\sklearn\\cluster\\_kmeans.py:870: FutureWarning: The default value of `n_init` will change from 10 to 'auto' in 1.4. Set the value of `n_init` explicitly to suppress the warning\n",
      "  warnings.warn(\n",
      "c:\\Users\\34680\\AppData\\Local\\Programs\\Python\\Python311\\Lib\\site-packages\\sklearn\\cluster\\_kmeans.py:870: FutureWarning: The default value of `n_init` will change from 10 to 'auto' in 1.4. Set the value of `n_init` explicitly to suppress the warning\n",
      "  warnings.warn(\n",
      "c:\\Users\\34680\\AppData\\Local\\Programs\\Python\\Python311\\Lib\\site-packages\\sklearn\\cluster\\_kmeans.py:870: FutureWarning: The default value of `n_init` will change from 10 to 'auto' in 1.4. Set the value of `n_init` explicitly to suppress the warning\n",
      "  warnings.warn(\n",
      "c:\\Users\\34680\\AppData\\Local\\Programs\\Python\\Python311\\Lib\\site-packages\\sklearn\\cluster\\_kmeans.py:870: FutureWarning: The default value of `n_init` will change from 10 to 'auto' in 1.4. Set the value of `n_init` explicitly to suppress the warning\n",
      "  warnings.warn(\n",
      "c:\\Users\\34680\\AppData\\Local\\Programs\\Python\\Python311\\Lib\\site-packages\\sklearn\\cluster\\_kmeans.py:870: FutureWarning: The default value of `n_init` will change from 10 to 'auto' in 1.4. Set the value of `n_init` explicitly to suppress the warning\n",
      "  warnings.warn(\n",
      "c:\\Users\\34680\\AppData\\Local\\Programs\\Python\\Python311\\Lib\\site-packages\\sklearn\\cluster\\_kmeans.py:870: FutureWarning: The default value of `n_init` will change from 10 to 'auto' in 1.4. Set the value of `n_init` explicitly to suppress the warning\n",
      "  warnings.warn(\n",
      "c:\\Users\\34680\\AppData\\Local\\Programs\\Python\\Python311\\Lib\\site-packages\\sklearn\\cluster\\_kmeans.py:870: FutureWarning: The default value of `n_init` will change from 10 to 'auto' in 1.4. Set the value of `n_init` explicitly to suppress the warning\n",
      "  warnings.warn(\n",
      "c:\\Users\\34680\\AppData\\Local\\Programs\\Python\\Python311\\Lib\\site-packages\\sklearn\\cluster\\_kmeans.py:870: FutureWarning: The default value of `n_init` will change from 10 to 'auto' in 1.4. Set the value of `n_init` explicitly to suppress the warning\n",
      "  warnings.warn(\n",
      "c:\\Users\\34680\\AppData\\Local\\Programs\\Python\\Python311\\Lib\\site-packages\\sklearn\\cluster\\_kmeans.py:870: FutureWarning: The default value of `n_init` will change from 10 to 'auto' in 1.4. Set the value of `n_init` explicitly to suppress the warning\n",
      "  warnings.warn(\n",
      "c:\\Users\\34680\\AppData\\Local\\Programs\\Python\\Python311\\Lib\\site-packages\\sklearn\\cluster\\_kmeans.py:870: FutureWarning: The default value of `n_init` will change from 10 to 'auto' in 1.4. Set the value of `n_init` explicitly to suppress the warning\n",
      "  warnings.warn(\n",
      "c:\\Users\\34680\\AppData\\Local\\Programs\\Python\\Python311\\Lib\\site-packages\\sklearn\\cluster\\_kmeans.py:870: FutureWarning: The default value of `n_init` will change from 10 to 'auto' in 1.4. Set the value of `n_init` explicitly to suppress the warning\n",
      "  warnings.warn(\n",
      "c:\\Users\\34680\\AppData\\Local\\Programs\\Python\\Python311\\Lib\\site-packages\\sklearn\\cluster\\_kmeans.py:870: FutureWarning: The default value of `n_init` will change from 10 to 'auto' in 1.4. Set the value of `n_init` explicitly to suppress the warning\n",
      "  warnings.warn(\n",
      "c:\\Users\\34680\\AppData\\Local\\Programs\\Python\\Python311\\Lib\\site-packages\\sklearn\\cluster\\_kmeans.py:870: FutureWarning: The default value of `n_init` will change from 10 to 'auto' in 1.4. Set the value of `n_init` explicitly to suppress the warning\n",
      "  warnings.warn(\n",
      "c:\\Users\\34680\\AppData\\Local\\Programs\\Python\\Python311\\Lib\\site-packages\\sklearn\\cluster\\_kmeans.py:870: FutureWarning: The default value of `n_init` will change from 10 to 'auto' in 1.4. Set the value of `n_init` explicitly to suppress the warning\n",
      "  warnings.warn(\n",
      "c:\\Users\\34680\\AppData\\Local\\Programs\\Python\\Python311\\Lib\\site-packages\\sklearn\\cluster\\_kmeans.py:870: FutureWarning: The default value of `n_init` will change from 10 to 'auto' in 1.4. Set the value of `n_init` explicitly to suppress the warning\n",
      "  warnings.warn(\n",
      "c:\\Users\\34680\\AppData\\Local\\Programs\\Python\\Python311\\Lib\\site-packages\\sklearn\\cluster\\_kmeans.py:870: FutureWarning: The default value of `n_init` will change from 10 to 'auto' in 1.4. Set the value of `n_init` explicitly to suppress the warning\n",
      "  warnings.warn(\n",
      "c:\\Users\\34680\\AppData\\Local\\Programs\\Python\\Python311\\Lib\\site-packages\\sklearn\\cluster\\_kmeans.py:870: FutureWarning: The default value of `n_init` will change from 10 to 'auto' in 1.4. Set the value of `n_init` explicitly to suppress the warning\n",
      "  warnings.warn(\n",
      "c:\\Users\\34680\\AppData\\Local\\Programs\\Python\\Python311\\Lib\\site-packages\\sklearn\\cluster\\_kmeans.py:870: FutureWarning: The default value of `n_init` will change from 10 to 'auto' in 1.4. Set the value of `n_init` explicitly to suppress the warning\n",
      "  warnings.warn(\n",
      "c:\\Users\\34680\\AppData\\Local\\Programs\\Python\\Python311\\Lib\\site-packages\\sklearn\\cluster\\_kmeans.py:870: FutureWarning: The default value of `n_init` will change from 10 to 'auto' in 1.4. Set the value of `n_init` explicitly to suppress the warning\n",
      "  warnings.warn(\n",
      "c:\\Users\\34680\\AppData\\Local\\Programs\\Python\\Python311\\Lib\\site-packages\\sklearn\\cluster\\_kmeans.py:870: FutureWarning: The default value of `n_init` will change from 10 to 'auto' in 1.4. Set the value of `n_init` explicitly to suppress the warning\n",
      "  warnings.warn(\n",
      "c:\\Users\\34680\\AppData\\Local\\Programs\\Python\\Python311\\Lib\\site-packages\\sklearn\\cluster\\_kmeans.py:870: FutureWarning: The default value of `n_init` will change from 10 to 'auto' in 1.4. Set the value of `n_init` explicitly to suppress the warning\n",
      "  warnings.warn(\n",
      "c:\\Users\\34680\\AppData\\Local\\Programs\\Python\\Python311\\Lib\\site-packages\\sklearn\\cluster\\_kmeans.py:870: FutureWarning: The default value of `n_init` will change from 10 to 'auto' in 1.4. Set the value of `n_init` explicitly to suppress the warning\n",
      "  warnings.warn(\n",
      "c:\\Users\\34680\\AppData\\Local\\Programs\\Python\\Python311\\Lib\\site-packages\\sklearn\\cluster\\_kmeans.py:870: FutureWarning: The default value of `n_init` will change from 10 to 'auto' in 1.4. Set the value of `n_init` explicitly to suppress the warning\n",
      "  warnings.warn(\n",
      "c:\\Users\\34680\\AppData\\Local\\Programs\\Python\\Python311\\Lib\\site-packages\\sklearn\\cluster\\_kmeans.py:870: FutureWarning: The default value of `n_init` will change from 10 to 'auto' in 1.4. Set the value of `n_init` explicitly to suppress the warning\n",
      "  warnings.warn(\n",
      "c:\\Users\\34680\\AppData\\Local\\Programs\\Python\\Python311\\Lib\\site-packages\\sklearn\\cluster\\_kmeans.py:870: FutureWarning: The default value of `n_init` will change from 10 to 'auto' in 1.4. Set the value of `n_init` explicitly to suppress the warning\n",
      "  warnings.warn(\n",
      "c:\\Users\\34680\\AppData\\Local\\Programs\\Python\\Python311\\Lib\\site-packages\\sklearn\\cluster\\_kmeans.py:870: FutureWarning: The default value of `n_init` will change from 10 to 'auto' in 1.4. Set the value of `n_init` explicitly to suppress the warning\n",
      "  warnings.warn(\n",
      "c:\\Users\\34680\\AppData\\Local\\Programs\\Python\\Python311\\Lib\\site-packages\\sklearn\\cluster\\_kmeans.py:870: FutureWarning: The default value of `n_init` will change from 10 to 'auto' in 1.4. Set the value of `n_init` explicitly to suppress the warning\n",
      "  warnings.warn(\n"
     ]
    },
    {
     "data": {
      "text/plain": [
       "<matplotlib.legend.Legend at 0x1ac8b266150>"
      ]
     },
     "execution_count": 12,
     "metadata": {},
     "output_type": "execute_result"
    },
    {
     "data": {
      "image/png": "[encoded data removed]",
      "text/plain": [
       "<Figure size 640x480 with 1 Axes>"
      ]
     },
     "metadata": {},
     "output_type": "display_data"
    }
   ],
   "source": [
    "from sklearn.pipeline import Pipeline\n",
    "import numpy as np\n",
    "from sklearn.preprocessing import StandardScaler\n",
    "from sklearn.cluster import KMeans\n",
    "from sklearn.model_selection import GridSearchCV, learning_curve\n",
    "import matplotlib.pyplot as plt\n",
    "\n",
    "pipeline = Pipeline([\n",
    "    ('scaler', StandardScaler()),  # Escalador\n",
    "    ('kmeans', KMeans(random_state=42))  # Clasificador K-means\n",
    "])\n",
    "\n",
    "# Definir los hiperparámetros a ajustar\n",
    "parameters = {\n",
    "    'kmeans__n_clusters': [2, 3, 4],\n",
    "    'kmeans__init': ['k-means++', 'random']\n",
    "}\n",
    "\n",
    "# Realizar la búsqueda de hiperparámetros utilizando validación cruzada\n",
    "grid_search = GridSearchCV(pipeline, parameters, cv=3, verbose=3)\n",
    "grid_search.fit(X_train)\n",
    "\n",
    "# Obtener el mejor modelo\n",
    "kmeans3_model = grid_search.best_estimator_\n",
    "\n",
    "# Calcular las curvas de aprendizaje\n",
    "train_sizes, train_scores, validation_scores = learning_curve(\n",
    "    estimator = kmeans3_model,\n",
    "    X = X_train,\n",
    "    y = y_train,\n",
    "    train_sizes = np.linspace(0.1, 1.0, 10),\n",
    "    cv = 5\n",
    ")\n",
    "\n",
    "train_scores_mean = np.mean(train_scores, axis=1)\n",
    "validation_scores_mean = np.mean(validation_scores, axis=1)\n",
    "\n",
    "# Trazar las curvas de aprendizaje en una gráfica\n",
    "plt.plot(train_sizes, train_scores_mean, label='Training error')\n",
    "plt.plot(train_sizes, validation_scores_mean, label='Validation error')\n",
    "plt.title('Learning curves for kmeans3_model')\n",
    "plt.xlabel('Training set size')\n",
    "plt.ylabel('Error')\n",
    "plt.legend()"
   ]
  },
  {
   "attachments": {},
   "cell_type": "markdown",
   "metadata": {},
   "source": [
    "parameters = {\n",
    "    'kmeans__n_clusters': [2, 3, 4],\n",
    "    'kmeans__init': ['k-means++', 'random'],\n",
    "    'kmeans__n_init': [1, 5, 10],\n",
    "    'kmeans__max_iter': [100, 300, 500],\n",
    "    'kmeans__tol': [1e-4, 1e-3, 1e-2],\n",
    "    'kmeans__precompute_distances': ['auto', True, False],\n",
    "    'kmeans__verbose': [0, 1],\n",
    "    'kmeans__random_state': [0, 42],\n",
    "    'kmeans__copy_x': [True, False],\n",
    "    'kmeans__n_jobs': [1, -1],\n",
    "    'kmeans__algorithm': ['auto', 'full', 'elkan']\n",
    "}"
   ]
  },
  {
   "attachments": {},
   "cell_type": "markdown",
   "metadata": {},
   "source": [
    "## K-MEANS PRUEBA 4"
   ]
  },
  {
   "attachments": {
    "image.png": {
     "image/png": "[encoded data removed]"
    }
   },
   "cell_type": "markdown",
   "metadata": {},
   "source": [
    "![image.png](attachment:image.png)"
   ]
  },
  {
   "attachments": {},
   "cell_type": "markdown",
   "metadata": {},
   "source": [
    "## K-means4_model\n",
    "Índice de Silhouette: 0.2003832546482985\n",
    "Índice de Calinski-Harabasz: 2445.4606321815327"
   ]
  },
  {
   "cell_type": "code",
   "execution_count": 3,
   "metadata": {},
   "outputs": [
    {
     "name": "stdout",
     "output_type": "stream",
     "text": [
      "Fitting 3 folds for each of 8 candidates, totalling 24 fits\n"
     ]
    },
    {
     "name": "stderr",
     "output_type": "stream",
     "text": [
      "c:\\Users\\34680\\AppData\\Local\\Programs\\Python\\Python311\\Lib\\site-packages\\sklearn\\cluster\\_kmeans.py:870: FutureWarning: The default value of `n_init` will change from 10 to 'auto' in 1.4. Set the value of `n_init` explicitly to suppress the warning\n",
      "  warnings.warn(\n"
     ]
    },
    {
     "name": "stdout",
     "output_type": "stream",
     "text": [
      "[CV 1/3] END kmeans__init=k-means++, kmeans__max_iter=100, kmeans__n_clusters=5;, score=-3007129.789 total time=   6.4s\n"
     ]
    },
    {
     "name": "stderr",
     "output_type": "stream",
     "text": [
      "c:\\Users\\34680\\AppData\\Local\\Programs\\Python\\Python311\\Lib\\site-packages\\sklearn\\cluster\\_kmeans.py:870: FutureWarning: The default value of `n_init` will change from 10 to 'auto' in 1.4. Set the value of `n_init` explicitly to suppress the warning\n",
      "  warnings.warn(\n"
     ]
    },
    {
     "name": "stdout",
     "output_type": "stream",
     "text": [
      "[CV 2/3] END kmeans__init=k-means++, kmeans__max_iter=100, kmeans__n_clusters=5;, score=-3260116.622 total time=   8.2s\n"
     ]
    },
    {
     "name": "stderr",
     "output_type": "stream",
     "text": [
      "c:\\Users\\34680\\AppData\\Local\\Programs\\Python\\Python311\\Lib\\site-packages\\sklearn\\cluster\\_kmeans.py:870: FutureWarning: The default value of `n_init` will change from 10 to 'auto' in 1.4. Set the value of `n_init` explicitly to suppress the warning\n",
      "  warnings.warn(\n"
     ]
    },
    {
     "name": "stdout",
     "output_type": "stream",
     "text": [
      "[CV 3/3] END kmeans__init=k-means++, kmeans__max_iter=100, kmeans__n_clusters=5;, score=-2956520.877 total time=   3.6s\n"
     ]
    },
    {
     "name": "stderr",
     "output_type": "stream",
     "text": [
      "c:\\Users\\34680\\AppData\\Local\\Programs\\Python\\Python311\\Lib\\site-packages\\sklearn\\cluster\\_kmeans.py:870: FutureWarning: The default value of `n_init` will change from 10 to 'auto' in 1.4. Set the value of `n_init` explicitly to suppress the warning\n",
      "  warnings.warn(\n"
     ]
    },
    {
     "name": "stdout",
     "output_type": "stream",
     "text": [
      "[CV 1/3] END kmeans__init=k-means++, kmeans__max_iter=100, kmeans__n_clusters=6;, score=-2997023.330 total time=   8.4s\n"
     ]
    },
    {
     "name": "stderr",
     "output_type": "stream",
     "text": [
      "c:\\Users\\34680\\AppData\\Local\\Programs\\Python\\Python311\\Lib\\site-packages\\sklearn\\cluster\\_kmeans.py:870: FutureWarning: The default value of `n_init` will change from 10 to 'auto' in 1.4. Set the value of `n_init` explicitly to suppress the warning\n",
      "  warnings.warn(\n"
     ]
    },
    {
     "name": "stdout",
     "output_type": "stream",
     "text": [
      "[CV 2/3] END kmeans__init=k-means++, kmeans__max_iter=100, kmeans__n_clusters=6;, score=-3253817.673 total time=  12.1s\n"
     ]
    },
    {
     "name": "stderr",
     "output_type": "stream",
     "text": [
      "c:\\Users\\34680\\AppData\\Local\\Programs\\Python\\Python311\\Lib\\site-packages\\sklearn\\cluster\\_kmeans.py:870: FutureWarning: The default value of `n_init` will change from 10 to 'auto' in 1.4. Set the value of `n_init` explicitly to suppress the warning\n",
      "  warnings.warn(\n"
     ]
    },
    {
     "name": "stdout",
     "output_type": "stream",
     "text": [
      "[CV 3/3] END kmeans__init=k-means++, kmeans__max_iter=100, kmeans__n_clusters=6;, score=-2967123.804 total time=   7.2s\n"
     ]
    },
    {
     "name": "stderr",
     "output_type": "stream",
     "text": [
      "c:\\Users\\34680\\AppData\\Local\\Programs\\Python\\Python311\\Lib\\site-packages\\sklearn\\cluster\\_kmeans.py:870: FutureWarning: The default value of `n_init` will change from 10 to 'auto' in 1.4. Set the value of `n_init` explicitly to suppress the warning\n",
      "  warnings.warn(\n"
     ]
    },
    {
     "name": "stdout",
     "output_type": "stream",
     "text": [
      "[CV 1/3] END kmeans__init=k-means++, kmeans__max_iter=300, kmeans__n_clusters=5;, score=-3007129.789 total time=   6.7s\n"
     ]
    },
    {
     "name": "stderr",
     "output_type": "stream",
     "text": [
      "c:\\Users\\34680\\AppData\\Local\\Programs\\Python\\Python311\\Lib\\site-packages\\sklearn\\cluster\\_kmeans.py:870: FutureWarning: The default value of `n_init` will change from 10 to 'auto' in 1.4. Set the value of `n_init` explicitly to suppress the warning\n",
      "  warnings.warn(\n"
     ]
    },
    {
     "name": "stdout",
     "output_type": "stream",
     "text": [
      "[CV 2/3] END kmeans__init=k-means++, kmeans__max_iter=300, kmeans__n_clusters=5;, score=-3260116.622 total time=   7.3s\n"
     ]
    },
    {
     "name": "stderr",
     "output_type": "stream",
     "text": [
      "c:\\Users\\34680\\AppData\\Local\\Programs\\Python\\Python311\\Lib\\site-packages\\sklearn\\cluster\\_kmeans.py:870: FutureWarning: The default value of `n_init` will change from 10 to 'auto' in 1.4. Set the value of `n_init` explicitly to suppress the warning\n",
      "  warnings.warn(\n"
     ]
    },
    {
     "name": "stdout",
     "output_type": "stream",
     "text": [
      "[CV 3/3] END kmeans__init=k-means++, kmeans__max_iter=300, kmeans__n_clusters=5;, score=-2956520.877 total time=   3.5s\n"
     ]
    },
    {
     "name": "stderr",
     "output_type": "stream",
     "text": [
      "c:\\Users\\34680\\AppData\\Local\\Programs\\Python\\Python311\\Lib\\site-packages\\sklearn\\cluster\\_kmeans.py:870: FutureWarning: The default value of `n_init` will change from 10 to 'auto' in 1.4. Set the value of `n_init` explicitly to suppress the warning\n",
      "  warnings.warn(\n"
     ]
    },
    {
     "name": "stdout",
     "output_type": "stream",
     "text": [
      "[CV 1/3] END kmeans__init=k-means++, kmeans__max_iter=300, kmeans__n_clusters=6;, score=-2997023.330 total time=   6.6s\n"
     ]
    },
    {
     "name": "stderr",
     "output_type": "stream",
     "text": [
      "c:\\Users\\34680\\AppData\\Local\\Programs\\Python\\Python311\\Lib\\site-packages\\sklearn\\cluster\\_kmeans.py:870: FutureWarning: The default value of `n_init` will change from 10 to 'auto' in 1.4. Set the value of `n_init` explicitly to suppress the warning\n",
      "  warnings.warn(\n"
     ]
    },
    {
     "name": "stdout",
     "output_type": "stream",
     "text": [
      "[CV 2/3] END kmeans__init=k-means++, kmeans__max_iter=300, kmeans__n_clusters=6;, score=-3253817.673 total time=  14.3s\n"
     ]
    },
    {
     "name": "stderr",
     "output_type": "stream",
     "text": [
      "c:\\Users\\34680\\AppData\\Local\\Programs\\Python\\Python311\\Lib\\site-packages\\sklearn\\cluster\\_kmeans.py:870: FutureWarning: The default value of `n_init` will change from 10 to 'auto' in 1.4. Set the value of `n_init` explicitly to suppress the warning\n",
      "  warnings.warn(\n"
     ]
    },
    {
     "name": "stdout",
     "output_type": "stream",
     "text": [
      "[CV 3/3] END kmeans__init=k-means++, kmeans__max_iter=300, kmeans__n_clusters=6;, score=-2967123.804 total time=   9.2s\n"
     ]
    },
    {
     "name": "stderr",
     "output_type": "stream",
     "text": [
      "c:\\Users\\34680\\AppData\\Local\\Programs\\Python\\Python311\\Lib\\site-packages\\sklearn\\cluster\\_kmeans.py:870: FutureWarning: The default value of `n_init` will change from 10 to 'auto' in 1.4. Set the value of `n_init` explicitly to suppress the warning\n",
      "  warnings.warn(\n"
     ]
    },
    {
     "name": "stdout",
     "output_type": "stream",
     "text": [
      "[CV 1/3] END kmeans__init=random, kmeans__max_iter=100, kmeans__n_clusters=5;, score=-3005593.148 total time=   4.1s\n"
     ]
    },
    {
     "name": "stderr",
     "output_type": "stream",
     "text": [
      "c:\\Users\\34680\\AppData\\Local\\Programs\\Python\\Python311\\Lib\\site-packages\\sklearn\\cluster\\_kmeans.py:870: FutureWarning: The default value of `n_init` will change from 10 to 'auto' in 1.4. Set the value of `n_init` explicitly to suppress the warning\n",
      "  warnings.warn(\n"
     ]
    },
    {
     "name": "stdout",
     "output_type": "stream",
     "text": [
      "[CV 2/3] END kmeans__init=random, kmeans__max_iter=100, kmeans__n_clusters=5;, score=-3253561.166 total time=   7.7s\n"
     ]
    },
    {
     "name": "stderr",
     "output_type": "stream",
     "text": [
      "c:\\Users\\34680\\AppData\\Local\\Programs\\Python\\Python311\\Lib\\site-packages\\sklearn\\cluster\\_kmeans.py:870: FutureWarning: The default value of `n_init` will change from 10 to 'auto' in 1.4. Set the value of `n_init` explicitly to suppress the warning\n",
      "  warnings.warn(\n"
     ]
    },
    {
     "name": "stdout",
     "output_type": "stream",
     "text": [
      "[CV 3/3] END kmeans__init=random, kmeans__max_iter=100, kmeans__n_clusters=5;, score=-2955319.470 total time=  12.3s\n"
     ]
    },
    {
     "name": "stderr",
     "output_type": "stream",
     "text": [
      "c:\\Users\\34680\\AppData\\Local\\Programs\\Python\\Python311\\Lib\\site-packages\\sklearn\\cluster\\_kmeans.py:870: FutureWarning: The default value of `n_init` will change from 10 to 'auto' in 1.4. Set the value of `n_init` explicitly to suppress the warning\n",
      "  warnings.warn(\n"
     ]
    },
    {
     "name": "stdout",
     "output_type": "stream",
     "text": [
      "[CV 1/3] END kmeans__init=random, kmeans__max_iter=100, kmeans__n_clusters=6;, score=-3002255.916 total time=   7.6s\n"
     ]
    },
    {
     "name": "stderr",
     "output_type": "stream",
     "text": [
      "c:\\Users\\34680\\AppData\\Local\\Programs\\Python\\Python311\\Lib\\site-packages\\sklearn\\cluster\\_kmeans.py:870: FutureWarning: The default value of `n_init` will change from 10 to 'auto' in 1.4. Set the value of `n_init` explicitly to suppress the warning\n",
      "  warnings.warn(\n"
     ]
    },
    {
     "name": "stdout",
     "output_type": "stream",
     "text": [
      "[CV 2/3] END kmeans__init=random, kmeans__max_iter=100, kmeans__n_clusters=6;, score=-3251535.780 total time=   7.8s\n"
     ]
    },
    {
     "name": "stderr",
     "output_type": "stream",
     "text": [
      "c:\\Users\\34680\\AppData\\Local\\Programs\\Python\\Python311\\Lib\\site-packages\\sklearn\\cluster\\_kmeans.py:870: FutureWarning: The default value of `n_init` will change from 10 to 'auto' in 1.4. Set the value of `n_init` explicitly to suppress the warning\n",
      "  warnings.warn(\n"
     ]
    },
    {
     "name": "stdout",
     "output_type": "stream",
     "text": [
      "[CV 3/3] END kmeans__init=random, kmeans__max_iter=100, kmeans__n_clusters=6;, score=-2951220.419 total time=   8.2s\n"
     ]
    },
    {
     "name": "stderr",
     "output_type": "stream",
     "text": [
      "c:\\Users\\34680\\AppData\\Local\\Programs\\Python\\Python311\\Lib\\site-packages\\sklearn\\cluster\\_kmeans.py:870: FutureWarning: The default value of `n_init` will change from 10 to 'auto' in 1.4. Set the value of `n_init` explicitly to suppress the warning\n",
      "  warnings.warn(\n"
     ]
    },
    {
     "name": "stdout",
     "output_type": "stream",
     "text": [
      "[CV 1/3] END kmeans__init=random, kmeans__max_iter=300, kmeans__n_clusters=5;, score=-3005593.148 total time=   3.7s\n"
     ]
    },
    {
     "name": "stderr",
     "output_type": "stream",
     "text": [
      "c:\\Users\\34680\\AppData\\Local\\Programs\\Python\\Python311\\Lib\\site-packages\\sklearn\\cluster\\_kmeans.py:870: FutureWarning: The default value of `n_init` will change from 10 to 'auto' in 1.4. Set the value of `n_init` explicitly to suppress the warning\n",
      "  warnings.warn(\n"
     ]
    },
    {
     "name": "stdout",
     "output_type": "stream",
     "text": [
      "[CV 2/3] END kmeans__init=random, kmeans__max_iter=300, kmeans__n_clusters=5;, score=-3253561.166 total time=   4.7s\n"
     ]
    },
    {
     "name": "stderr",
     "output_type": "stream",
     "text": [
      "c:\\Users\\34680\\AppData\\Local\\Programs\\Python\\Python311\\Lib\\site-packages\\sklearn\\cluster\\_kmeans.py:870: FutureWarning: The default value of `n_init` will change from 10 to 'auto' in 1.4. Set the value of `n_init` explicitly to suppress the warning\n",
      "  warnings.warn(\n"
     ]
    },
    {
     "name": "stdout",
     "output_type": "stream",
     "text": [
      "[CV 3/3] END kmeans__init=random, kmeans__max_iter=300, kmeans__n_clusters=5;, score=-2955319.470 total time=   6.0s\n"
     ]
    },
    {
     "name": "stderr",
     "output_type": "stream",
     "text": [
      "c:\\Users\\34680\\AppData\\Local\\Programs\\Python\\Python311\\Lib\\site-packages\\sklearn\\cluster\\_kmeans.py:870: FutureWarning: The default value of `n_init` will change from 10 to 'auto' in 1.4. Set the value of `n_init` explicitly to suppress the warning\n",
      "  warnings.warn(\n"
     ]
    },
    {
     "name": "stdout",
     "output_type": "stream",
     "text": [
      "[CV 1/3] END kmeans__init=random, kmeans__max_iter=300, kmeans__n_clusters=6;, score=-3002255.916 total time=   5.7s\n"
     ]
    },
    {
     "name": "stderr",
     "output_type": "stream",
     "text": [
      "c:\\Users\\34680\\AppData\\Local\\Programs\\Python\\Python311\\Lib\\site-packages\\sklearn\\cluster\\_kmeans.py:870: FutureWarning: The default value of `n_init` will change from 10 to 'auto' in 1.4. Set the value of `n_init` explicitly to suppress the warning\n",
      "  warnings.warn(\n"
     ]
    },
    {
     "name": "stdout",
     "output_type": "stream",
     "text": [
      "[CV 2/3] END kmeans__init=random, kmeans__max_iter=300, kmeans__n_clusters=6;, score=-3251535.780 total time=   5.4s\n"
     ]
    },
    {
     "name": "stderr",
     "output_type": "stream",
     "text": [
      "c:\\Users\\34680\\AppData\\Local\\Programs\\Python\\Python311\\Lib\\site-packages\\sklearn\\cluster\\_kmeans.py:870: FutureWarning: The default value of `n_init` will change from 10 to 'auto' in 1.4. Set the value of `n_init` explicitly to suppress the warning\n",
      "  warnings.warn(\n"
     ]
    },
    {
     "name": "stdout",
     "output_type": "stream",
     "text": [
      "[CV 3/3] END kmeans__init=random, kmeans__max_iter=300, kmeans__n_clusters=6;, score=-2951220.419 total time=   7.1s\n"
     ]
    },
    {
     "name": "stderr",
     "output_type": "stream",
     "text": [
      "c:\\Users\\34680\\AppData\\Local\\Programs\\Python\\Python311\\Lib\\site-packages\\sklearn\\cluster\\_kmeans.py:870: FutureWarning: The default value of `n_init` will change from 10 to 'auto' in 1.4. Set the value of `n_init` explicitly to suppress the warning\n",
      "  warnings.warn(\n"
     ]
    },
    {
     "name": "stdout",
     "output_type": "stream",
     "text": [
      "kmeans4_model\n",
      "{'kmeans__init': 'random', 'kmeans__max_iter': 100, 'kmeans__n_clusters': 6}\n"
     ]
    },
    {
     "name": "stderr",
     "output_type": "stream",
     "text": [
      "c:\\Users\\34680\\AppData\\Local\\Programs\\Python\\Python311\\Lib\\site-packages\\sklearn\\cluster\\_kmeans.py:870: FutureWarning: The default value of `n_init` will change from 10 to 'auto' in 1.4. Set the value of `n_init` explicitly to suppress the warning\n",
      "  warnings.warn(\n",
      "c:\\Users\\34680\\AppData\\Local\\Programs\\Python\\Python311\\Lib\\site-packages\\sklearn\\cluster\\_kmeans.py:870: FutureWarning: The default value of `n_init` will change from 10 to 'auto' in 1.4. Set the value of `n_init` explicitly to suppress the warning\n",
      "  warnings.warn(\n",
      "c:\\Users\\34680\\AppData\\Local\\Programs\\Python\\Python311\\Lib\\site-packages\\sklearn\\cluster\\_kmeans.py:870: FutureWarning: The default value of `n_init` will change from 10 to 'auto' in 1.4. Set the value of `n_init` explicitly to suppress the warning\n",
      "  warnings.warn(\n",
      "c:\\Users\\34680\\AppData\\Local\\Programs\\Python\\Python311\\Lib\\site-packages\\sklearn\\cluster\\_kmeans.py:870: FutureWarning: The default value of `n_init` will change from 10 to 'auto' in 1.4. Set the value of `n_init` explicitly to suppress the warning\n",
      "  warnings.warn(\n",
      "c:\\Users\\34680\\AppData\\Local\\Programs\\Python\\Python311\\Lib\\site-packages\\sklearn\\cluster\\_kmeans.py:870: FutureWarning: The default value of `n_init` will change from 10 to 'auto' in 1.4. Set the value of `n_init` explicitly to suppress the warning\n",
      "  warnings.warn(\n",
      "c:\\Users\\34680\\AppData\\Local\\Programs\\Python\\Python311\\Lib\\site-packages\\sklearn\\cluster\\_kmeans.py:870: FutureWarning: The default value of `n_init` will change from 10 to 'auto' in 1.4. Set the value of `n_init` explicitly to suppress the warning\n",
      "  warnings.warn(\n",
      "c:\\Users\\34680\\AppData\\Local\\Programs\\Python\\Python311\\Lib\\site-packages\\sklearn\\cluster\\_kmeans.py:870: FutureWarning: The default value of `n_init` will change from 10 to 'auto' in 1.4. Set the value of `n_init` explicitly to suppress the warning\n",
      "  warnings.warn(\n",
      "c:\\Users\\34680\\AppData\\Local\\Programs\\Python\\Python311\\Lib\\site-packages\\sklearn\\cluster\\_kmeans.py:870: FutureWarning: The default value of `n_init` will change from 10 to 'auto' in 1.4. Set the value of `n_init` explicitly to suppress the warning\n",
      "  warnings.warn(\n",
      "c:\\Users\\34680\\AppData\\Local\\Programs\\Python\\Python311\\Lib\\site-packages\\sklearn\\cluster\\_kmeans.py:870: FutureWarning: The default value of `n_init` will change from 10 to 'auto' in 1.4. Set the value of `n_init` explicitly to suppress the warning\n",
      "  warnings.warn(\n",
      "c:\\Users\\34680\\AppData\\Local\\Programs\\Python\\Python311\\Lib\\site-packages\\sklearn\\cluster\\_kmeans.py:870: FutureWarning: The default value of `n_init` will change from 10 to 'auto' in 1.4. Set the value of `n_init` explicitly to suppress the warning\n",
      "  warnings.warn(\n",
      "c:\\Users\\34680\\AppData\\Local\\Programs\\Python\\Python311\\Lib\\site-packages\\sklearn\\cluster\\_kmeans.py:870: FutureWarning: The default value of `n_init` will change from 10 to 'auto' in 1.4. Set the value of `n_init` explicitly to suppress the warning\n",
      "  warnings.warn(\n",
      "c:\\Users\\34680\\AppData\\Local\\Programs\\Python\\Python311\\Lib\\site-packages\\sklearn\\cluster\\_kmeans.py:870: FutureWarning: The default value of `n_init` will change from 10 to 'auto' in 1.4. Set the value of `n_init` explicitly to suppress the warning\n",
      "  warnings.warn(\n",
      "c:\\Users\\34680\\AppData\\Local\\Programs\\Python\\Python311\\Lib\\site-packages\\sklearn\\cluster\\_kmeans.py:870: FutureWarning: The default value of `n_init` will change from 10 to 'auto' in 1.4. Set the value of `n_init` explicitly to suppress the warning\n",
      "  warnings.warn(\n",
      "c:\\Users\\34680\\AppData\\Local\\Programs\\Python\\Python311\\Lib\\site-packages\\sklearn\\cluster\\_kmeans.py:870: FutureWarning: The default value of `n_init` will change from 10 to 'auto' in 1.4. Set the value of `n_init` explicitly to suppress the warning\n",
      "  warnings.warn(\n",
      "c:\\Users\\34680\\AppData\\Local\\Programs\\Python\\Python311\\Lib\\site-packages\\sklearn\\cluster\\_kmeans.py:870: FutureWarning: The default value of `n_init` will change from 10 to 'auto' in 1.4. Set the value of `n_init` explicitly to suppress the warning\n",
      "  warnings.warn(\n",
      "c:\\Users\\34680\\AppData\\Local\\Programs\\Python\\Python311\\Lib\\site-packages\\sklearn\\cluster\\_kmeans.py:870: FutureWarning: The default value of `n_init` will change from 10 to 'auto' in 1.4. Set the value of `n_init` explicitly to suppress the warning\n",
      "  warnings.warn(\n",
      "c:\\Users\\34680\\AppData\\Local\\Programs\\Python\\Python311\\Lib\\site-packages\\sklearn\\cluster\\_kmeans.py:870: FutureWarning: The default value of `n_init` will change from 10 to 'auto' in 1.4. Set the value of `n_init` explicitly to suppress the warning\n",
      "  warnings.warn(\n",
      "c:\\Users\\34680\\AppData\\Local\\Programs\\Python\\Python311\\Lib\\site-packages\\sklearn\\cluster\\_kmeans.py:870: FutureWarning: The default value of `n_init` will change from 10 to 'auto' in 1.4. Set the value of `n_init` explicitly to suppress the warning\n",
      "  warnings.warn(\n",
      "c:\\Users\\34680\\AppData\\Local\\Programs\\Python\\Python311\\Lib\\site-packages\\sklearn\\cluster\\_kmeans.py:870: FutureWarning: The default value of `n_init` will change from 10 to 'auto' in 1.4. Set the value of `n_init` explicitly to suppress the warning\n",
      "  warnings.warn(\n",
      "c:\\Users\\34680\\AppData\\Local\\Programs\\Python\\Python311\\Lib\\site-packages\\sklearn\\cluster\\_kmeans.py:870: FutureWarning: The default value of `n_init` will change from 10 to 'auto' in 1.4. Set the value of `n_init` explicitly to suppress the warning\n",
      "  warnings.warn(\n",
      "c:\\Users\\34680\\AppData\\Local\\Programs\\Python\\Python311\\Lib\\site-packages\\sklearn\\cluster\\_kmeans.py:870: FutureWarning: The default value of `n_init` will change from 10 to 'auto' in 1.4. Set the value of `n_init` explicitly to suppress the warning\n",
      "  warnings.warn(\n",
      "c:\\Users\\34680\\AppData\\Local\\Programs\\Python\\Python311\\Lib\\site-packages\\sklearn\\cluster\\_kmeans.py:870: FutureWarning: The default value of `n_init` will change from 10 to 'auto' in 1.4. Set the value of `n_init` explicitly to suppress the warning\n",
      "  warnings.warn(\n",
      "c:\\Users\\34680\\AppData\\Local\\Programs\\Python\\Python311\\Lib\\site-packages\\sklearn\\cluster\\_kmeans.py:870: FutureWarning: The default value of `n_init` will change from 10 to 'auto' in 1.4. Set the value of `n_init` explicitly to suppress the warning\n",
      "  warnings.warn(\n",
      "c:\\Users\\34680\\AppData\\Local\\Programs\\Python\\Python311\\Lib\\site-packages\\sklearn\\cluster\\_kmeans.py:870: FutureWarning: The default value of `n_init` will change from 10 to 'auto' in 1.4. Set the value of `n_init` explicitly to suppress the warning\n",
      "  warnings.warn(\n",
      "c:\\Users\\34680\\AppData\\Local\\Programs\\Python\\Python311\\Lib\\site-packages\\sklearn\\cluster\\_kmeans.py:870: FutureWarning: The default value of `n_init` will change from 10 to 'auto' in 1.4. Set the value of `n_init` explicitly to suppress the warning\n",
      "  warnings.warn(\n",
      "c:\\Users\\34680\\AppData\\Local\\Programs\\Python\\Python311\\Lib\\site-packages\\sklearn\\cluster\\_kmeans.py:870: FutureWarning: The default value of `n_init` will change from 10 to 'auto' in 1.4. Set the value of `n_init` explicitly to suppress the warning\n",
      "  warnings.warn(\n",
      "c:\\Users\\34680\\AppData\\Local\\Programs\\Python\\Python311\\Lib\\site-packages\\sklearn\\cluster\\_kmeans.py:870: FutureWarning: The default value of `n_init` will change from 10 to 'auto' in 1.4. Set the value of `n_init` explicitly to suppress the warning\n",
      "  warnings.warn(\n",
      "c:\\Users\\34680\\AppData\\Local\\Programs\\Python\\Python311\\Lib\\site-packages\\sklearn\\cluster\\_kmeans.py:870: FutureWarning: The default value of `n_init` will change from 10 to 'auto' in 1.4. Set the value of `n_init` explicitly to suppress the warning\n",
      "  warnings.warn(\n",
      "c:\\Users\\34680\\AppData\\Local\\Programs\\Python\\Python311\\Lib\\site-packages\\sklearn\\cluster\\_kmeans.py:870: FutureWarning: The default value of `n_init` will change from 10 to 'auto' in 1.4. Set the value of `n_init` explicitly to suppress the warning\n",
      "  warnings.warn(\n",
      "c:\\Users\\34680\\AppData\\Local\\Programs\\Python\\Python311\\Lib\\site-packages\\sklearn\\cluster\\_kmeans.py:870: FutureWarning: The default value of `n_init` will change from 10 to 'auto' in 1.4. Set the value of `n_init` explicitly to suppress the warning\n",
      "  warnings.warn(\n",
      "c:\\Users\\34680\\AppData\\Local\\Programs\\Python\\Python311\\Lib\\site-packages\\sklearn\\cluster\\_kmeans.py:870: FutureWarning: The default value of `n_init` will change from 10 to 'auto' in 1.4. Set the value of `n_init` explicitly to suppress the warning\n",
      "  warnings.warn(\n",
      "c:\\Users\\34680\\AppData\\Local\\Programs\\Python\\Python311\\Lib\\site-packages\\sklearn\\cluster\\_kmeans.py:870: FutureWarning: The default value of `n_init` will change from 10 to 'auto' in 1.4. Set the value of `n_init` explicitly to suppress the warning\n",
      "  warnings.warn(\n",
      "c:\\Users\\34680\\AppData\\Local\\Programs\\Python\\Python311\\Lib\\site-packages\\sklearn\\cluster\\_kmeans.py:870: FutureWarning: The default value of `n_init` will change from 10 to 'auto' in 1.4. Set the value of `n_init` explicitly to suppress the warning\n",
      "  warnings.warn(\n",
      "c:\\Users\\34680\\AppData\\Local\\Programs\\Python\\Python311\\Lib\\site-packages\\sklearn\\cluster\\_kmeans.py:870: FutureWarning: The default value of `n_init` will change from 10 to 'auto' in 1.4. Set the value of `n_init` explicitly to suppress the warning\n",
      "  warnings.warn(\n",
      "c:\\Users\\34680\\AppData\\Local\\Programs\\Python\\Python311\\Lib\\site-packages\\sklearn\\cluster\\_kmeans.py:870: FutureWarning: The default value of `n_init` will change from 10 to 'auto' in 1.4. Set the value of `n_init` explicitly to suppress the warning\n",
      "  warnings.warn(\n",
      "c:\\Users\\34680\\AppData\\Local\\Programs\\Python\\Python311\\Lib\\site-packages\\sklearn\\cluster\\_kmeans.py:870: FutureWarning: The default value of `n_init` will change from 10 to 'auto' in 1.4. Set the value of `n_init` explicitly to suppress the warning\n",
      "  warnings.warn(\n",
      "c:\\Users\\34680\\AppData\\Local\\Programs\\Python\\Python311\\Lib\\site-packages\\sklearn\\cluster\\_kmeans.py:870: FutureWarning: The default value of `n_init` will change from 10 to 'auto' in 1.4. Set the value of `n_init` explicitly to suppress the warning\n",
      "  warnings.warn(\n",
      "c:\\Users\\34680\\AppData\\Local\\Programs\\Python\\Python311\\Lib\\site-packages\\sklearn\\cluster\\_kmeans.py:870: FutureWarning: The default value of `n_init` will change from 10 to 'auto' in 1.4. Set the value of `n_init` explicitly to suppress the warning\n",
      "  warnings.warn(\n",
      "c:\\Users\\34680\\AppData\\Local\\Programs\\Python\\Python311\\Lib\\site-packages\\sklearn\\cluster\\_kmeans.py:870: FutureWarning: The default value of `n_init` will change from 10 to 'auto' in 1.4. Set the value of `n_init` explicitly to suppress the warning\n",
      "  warnings.warn(\n",
      "c:\\Users\\34680\\AppData\\Local\\Programs\\Python\\Python311\\Lib\\site-packages\\sklearn\\cluster\\_kmeans.py:870: FutureWarning: The default value of `n_init` will change from 10 to 'auto' in 1.4. Set the value of `n_init` explicitly to suppress the warning\n",
      "  warnings.warn(\n",
      "c:\\Users\\34680\\AppData\\Local\\Programs\\Python\\Python311\\Lib\\site-packages\\sklearn\\cluster\\_kmeans.py:870: FutureWarning: The default value of `n_init` will change from 10 to 'auto' in 1.4. Set the value of `n_init` explicitly to suppress the warning\n",
      "  warnings.warn(\n",
      "c:\\Users\\34680\\AppData\\Local\\Programs\\Python\\Python311\\Lib\\site-packages\\sklearn\\cluster\\_kmeans.py:870: FutureWarning: The default value of `n_init` will change from 10 to 'auto' in 1.4. Set the value of `n_init` explicitly to suppress the warning\n",
      "  warnings.warn(\n",
      "c:\\Users\\34680\\AppData\\Local\\Programs\\Python\\Python311\\Lib\\site-packages\\sklearn\\cluster\\_kmeans.py:870: FutureWarning: The default value of `n_init` will change from 10 to 'auto' in 1.4. Set the value of `n_init` explicitly to suppress the warning\n",
      "  warnings.warn(\n",
      "c:\\Users\\34680\\AppData\\Local\\Programs\\Python\\Python311\\Lib\\site-packages\\sklearn\\cluster\\_kmeans.py:870: FutureWarning: The default value of `n_init` will change from 10 to 'auto' in 1.4. Set the value of `n_init` explicitly to suppress the warning\n",
      "  warnings.warn(\n",
      "c:\\Users\\34680\\AppData\\Local\\Programs\\Python\\Python311\\Lib\\site-packages\\sklearn\\cluster\\_kmeans.py:870: FutureWarning: The default value of `n_init` will change from 10 to 'auto' in 1.4. Set the value of `n_init` explicitly to suppress the warning\n",
      "  warnings.warn(\n",
      "c:\\Users\\34680\\AppData\\Local\\Programs\\Python\\Python311\\Lib\\site-packages\\sklearn\\cluster\\_kmeans.py:870: FutureWarning: The default value of `n_init` will change from 10 to 'auto' in 1.4. Set the value of `n_init` explicitly to suppress the warning\n",
      "  warnings.warn(\n",
      "c:\\Users\\34680\\AppData\\Local\\Programs\\Python\\Python311\\Lib\\site-packages\\sklearn\\cluster\\_kmeans.py:870: FutureWarning: The default value of `n_init` will change from 10 to 'auto' in 1.4. Set the value of `n_init` explicitly to suppress the warning\n",
      "  warnings.warn(\n",
      "c:\\Users\\34680\\AppData\\Local\\Programs\\Python\\Python311\\Lib\\site-packages\\sklearn\\cluster\\_kmeans.py:870: FutureWarning: The default value of `n_init` will change from 10 to 'auto' in 1.4. Set the value of `n_init` explicitly to suppress the warning\n",
      "  warnings.warn(\n",
      "c:\\Users\\34680\\AppData\\Local\\Programs\\Python\\Python311\\Lib\\site-packages\\sklearn\\cluster\\_kmeans.py:870: FutureWarning: The default value of `n_init` will change from 10 to 'auto' in 1.4. Set the value of `n_init` explicitly to suppress the warning\n",
      "  warnings.warn(\n",
      "c:\\Users\\34680\\AppData\\Local\\Programs\\Python\\Python311\\Lib\\site-packages\\sklearn\\cluster\\_kmeans.py:870: FutureWarning: The default value of `n_init` will change from 10 to 'auto' in 1.4. Set the value of `n_init` explicitly to suppress the warning\n",
      "  warnings.warn(\n"
     ]
    },
    {
     "name": "stdout",
     "output_type": "stream",
     "text": [
      "train_scores_mean\n",
      "[ -373030.65540674  -976299.94538836 -1667794.87729603 -2426520.65603798\n",
      " -3243731.09352717 -4097397.98317614 -4985180.95166911 -5902661.59894029\n",
      " -6877821.23436435 -7824212.54855662]\n",
      "validation_scores_mean\n",
      "[ -740572.38631024 -1086720.8056263  -1336450.00969195 -1448131.15324204\n",
      " -1581543.3996937  -1676426.88766995 -1756442.2840814  -1836820.35581735\n",
      " -1907481.37919517 -1976875.80137044]\n"
     ]
    },
    {
     "data": {
      "text/plain": [
       "<matplotlib.legend.Legend at 0x22a0f76f810>"
      ]
     },
     "execution_count": 3,
     "metadata": {},
     "output_type": "execute_result"
    },
    {
     "data": {
      "image/png": "[encoded data removed]",
      "text/plain": [
       "<Figure size 640x480 with 1 Axes>"
      ]
     },
     "metadata": {},
     "output_type": "display_data"
    }
   ],
   "source": [
    "from sklearn.pipeline import Pipeline\n",
    "import numpy as np\n",
    "from sklearn.preprocessing import StandardScaler\n",
    "from sklearn.cluster import KMeans\n",
    "from sklearn.model_selection import GridSearchCV, learning_curve\n",
    "import matplotlib.pyplot as plt\n",
    "\n",
    "pipeline = Pipeline([\n",
    "    ('scaler', StandardScaler()),  # Escalador\n",
    "    ('kmeans', KMeans(random_state=42))  # Clasificador K-means\n",
    "])\n",
    "\n",
    "# Definir los hiperparámetros a ajustar\n",
    "parameters = {\n",
    "    'kmeans__n_clusters': [5,6],\n",
    "    'kmeans__init': ['k-means++', 'random'],\n",
    "    'kmeans__max_iter': [100, 300]\n",
    "}\n",
    "\n",
    "# Realizar la búsqueda de hiperparámetros utilizando validación cruzada\n",
    "grid_search = GridSearchCV(pipeline, parameters, cv=3, verbose=3)\n",
    "grid_search.fit(X_train)\n",
    "\n",
    "# Obtener el mejor modelo\n",
    "kmeans4_model = grid_search.best_estimator_\n",
    "\n",
    "print('kmeans4_model')\n",
    "print(grid_search.best_params_)\n",
    "\n",
    "\n",
    "# Calcular las curvas de aprendizaje\n",
    "train_sizes, train_scores, validation_scores = learning_curve(\n",
    "    estimator = kmeans4_model,\n",
    "    X = X_train,\n",
    "    y = y_train,\n",
    "    train_sizes = np.linspace(0.1, 1.0, 10),\n",
    "    cv = 5\n",
    ")\n",
    "\n",
    "train_scores_mean = np.mean(train_scores, axis=1)\n",
    "validation_scores_mean = np.mean(validation_scores, axis=1)\n",
    "\n",
    "\n",
    "print('train_scores_mean')\n",
    "print(train_scores_mean)\n",
    "print('validation_scores_mean')\n",
    "print(validation_scores_mean)\n",
    "# Trazar las curvas de aprendizaje en una gráfica\n",
    "plt.plot(train_sizes, train_scores_mean, label='Training error')\n",
    "plt.plot(train_sizes, validation_scores_mean, label='Validation error')\n",
    "plt.title('Learning curves for kmeans3_model')\n",
    "plt.xlabel('Training set size')\n",
    "plt.ylabel('Error')\n",
    "plt.legend()"
   ]
  },
  {
   "attachments": {},
   "cell_type": "markdown",
   "metadata": {},
   "source": [
    "## Mertricas Kmeans4_model"
   ]
  },
  {
   "cell_type": "code",
   "execution_count": 14,
   "metadata": {},
   "outputs": [
    {
     "name": "stdout",
     "output_type": "stream",
     "text": [
      "Índice de Silhouette: 0.2003832546482985\n",
      "Índice de Calinski-Harabasz: 2445.4606321815327\n"
     ]
    }
   ],
   "source": [
    "from sklearn.metrics import silhouette_score, calinski_harabasz_score\n",
    "\n",
    "# Predecir los clusters para los datos de entrenamiento\n",
    "y_pred = kmeans4_model.predict(X_train)\n",
    "\n",
    "# Calcular el índice de Silhouette\n",
    "silhouette = silhouette_score(X_train, y_pred)\n",
    "print('Índice de Silhouette:', silhouette)\n",
    "\n",
    "# Calcular el índice de Calinski-Harabasz\n",
    "calinski_harabasz = calinski_harabasz_score(X_train, y_pred)\n",
    "print('Índice de Calinski-Harabasz:', calinski_harabasz)"
   ]
  },
  {
   "attachments": {},
   "cell_type": "markdown",
   "metadata": {},
   "source": [
    "Calinski-Harabasz para kmeans4_model es maoyr kmeans2_model = clusters mejor separados y más cohesivos.\n",
    "Silhouette para kmeans4_model es menor que kmeans2_model = clusters moderadamente más separados y cohesivos."
   ]
  },
  {
   "cell_type": "code",
   "execution_count": null,
   "metadata": {},
   "outputs": [],
   "source": [
    "import pickle\n",
    "import yaml\n",
    "\n",
    "# Guardar el modelo entrenado en un archivo pickle\n",
    "with open('../models/kmeans4_model.pkl', 'wb') as archivo_salida:\n",
    "    pickle.dump(kmeans4_model, archivo_salida)\n",
    "\n",
    "# Guardar la configuración del modelo en un archivo YAML\n",
    "model_config = {\n",
    "    'model_name': 'K-means',\n",
    "    'best_params': kmeans4_model.get_params()\n",
    "}\n",
    "\n",
    "with open('../models/kmeans4_model_config.yaml', 'w') as f:\n",
    "    yaml.dump(model_config, f)"
   ]
  },
  {
   "cell_type": "code",
   "execution_count": null,
   "metadata": {},
   "outputs": [],
   "source": []
  }
 ],
 "metadata": {
  "kernelspec": {
   "display_name": "Python 3",
   "language": "python",
   "name": "python3"
  },
  "language_info": {
   "codemirror_mode": {
    "name": "ipython",
    "version": 3
   },
   "file_extension": ".py",
   "mimetype": "text/x-python",
   "name": "python",
   "nbconvert_exporter": "python",
   "pygments_lexer": "ipython3",
   "version": "3.11.1"
  },
  "orig_nbformat": 4
 },
 "nbformat": 4,
 "nbformat_minor": 2
}
