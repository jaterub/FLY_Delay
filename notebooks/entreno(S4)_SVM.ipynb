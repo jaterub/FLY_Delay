{
 "cells": [
  {
   "cell_type": "code",
   "execution_count": 5,
   "metadata": {},
   "outputs": [],
   "source": [
    "from sklearn.pipeline import Pipeline\n",
    "from sklearn.preprocessing import StandardScaler\n",
    "from sklearn.linear_model import LogisticRegression\n",
    "from sklearn.tree import DecisionTreeClassifier\n",
    "from sklearn.svm import SVC\n",
    "import pandas as pd\n",
    "from sklearn.model_selection import train_test_split\n",
    "from sklearn.naive_bayes import GaussianNB\n",
    "from sklearn.cluster import KMeans\n",
    "from sklearn.model_selection import GridSearchCV\n",
    "from sklearn.metrics import accuracy_score, precision_score, recall_score, f1_score"
   ]
  },
  {
   "cell_type": "code",
   "execution_count": 6,
   "metadata": {},
   "outputs": [],
   "source": [
    "df_processed = pd.read_csv('../data/processed/processed.csv')\n",
    "df_processed.shape\n",
    "X = df_processed.drop(['DELAYED','ARRIVAL_DELAY','DEPARTURE_TIME'], axis=1).copy()\n",
    "\n",
    "y = df_processed['DELAYED'].copy()\n",
    "X_train, X_test, y_train, y_test = train_test_split(X, y, test_size=0.2, random_state=42)\n"
   ]
  },
  {
   "attachments": {},
   "cell_type": "markdown",
   "metadata": {},
   "source": [
    "##  (SVC) PRUEBA 1"
   ]
  },
  {
   "attachments": {},
   "cell_type": "markdown",
   "metadata": {},
   "source": [
    "## svc1_model\n",
    "Accuracy en los datos de entrenamiento: 1.00\n",
    "Accuracy en los datos de prueba: 0.99\n",
    "Precisión en los datos de prueba: 0.98\n",
    "Recall en los datos de prueba: 0.98\n",
    "F1-score en los datos de prueba: 0.98\n",
    "Matriz de confusión:\n",
    "[[1899   18]\n",
    " [  23  970]]\n",
    "Área bajo la curva ROC (AUC): 0.98"
   ]
  },
  {
   "cell_type": "code",
   "execution_count": 7,
   "metadata": {},
   "outputs": [
    {
     "name": "stdout",
     "output_type": "stream",
     "text": [
      "Fitting 3 folds for each of 4 candidates, totalling 12 fits\n",
      "[CV 1/3] END ....svc__C=0.1, svc__kernel=linear;, score=0.925 total time=  34.4s\n",
      "[CV 2/3] END ....svc__C=0.1, svc__kernel=linear;, score=0.925 total time=  38.7s\n",
      "[CV 3/3] END ....svc__C=0.1, svc__kernel=linear;, score=0.917 total time=  36.9s\n",
      "[CV 1/3] END .......svc__C=0.1, svc__kernel=rbf;, score=0.713 total time= 1.5min\n",
      "[CV 2/3] END .......svc__C=0.1, svc__kernel=rbf;, score=0.714 total time= 1.4min\n",
      "[CV 3/3] END .......svc__C=0.1, svc__kernel=rbf;, score=0.708 total time= 1.4min\n",
      "[CV 1/3] END ......svc__C=1, svc__kernel=linear;, score=0.967 total time=  34.1s\n",
      "[CV 2/3] END ......svc__C=1, svc__kernel=linear;, score=0.963 total time=  33.0s\n",
      "[CV 3/3] END ......svc__C=1, svc__kernel=linear;, score=0.965 total time=  37.5s\n",
      "[CV 1/3] END .........svc__C=1, svc__kernel=rbf;, score=0.781 total time= 1.1min\n",
      "[CV 2/3] END .........svc__C=1, svc__kernel=rbf;, score=0.798 total time= 1.2min\n",
      "[CV 3/3] END .........svc__C=1, svc__kernel=rbf;, score=0.783 total time= 1.2min\n",
      "Metricas (SVM)\n",
      "Accuracy en los datos de entrenamiento: 0.99\n",
      "Accuracy en los datos de prueba: 0.97\n",
      "Precisión en los datos de prueba: 0.97\n",
      "Recall en los datos de prueba: 0.95\n",
      "F1-score en los datos de prueba: 0.96\n",
      "Matriz de confusión:\n",
      "[[1886   31]\n",
      " [  53  940]]\n",
      "Área bajo la curva ROC (AUC): 0.97\n"
     ]
    }
   ],
   "source": [
    "from sklearn.pipeline import Pipeline\n",
    "from sklearn.preprocessing import StandardScaler\n",
    "from sklearn.svm import SVC\n",
    "from sklearn.model_selection import GridSearchCV\n",
    "from sklearn.metrics import accuracy_score, precision_score, recall_score, f1_score, confusion_matrix, roc_curve, auc\n",
    "\n",
    "pipeline = Pipeline([\n",
    "    ('scaler', StandardScaler()),  # Escalador\n",
    "    ('svc', SVC(random_state=42))  # Clasificador Máquinas de vectores de soporte (SVM)\n",
    "])\n",
    "\n",
    "# Definir los hiperparámetros a ajustar\n",
    "parameters = {\n",
    "    'svc__C': [0.1, 1],\n",
    "    'svc__kernel': ['linear', 'rbf']\n",
    "}\n",
    "\n",
    "# Realizar la búsqueda de hiperparámetros utilizando validación cruzada\n",
    "grid_search = GridSearchCV(pipeline, parameters, cv=3, scoring='accuracy' , verbose=3)\n",
    "grid_search.fit(X_train, y_train)\n",
    "\n",
    "# Obtener el mejor modelo\n",
    "svc1_model = grid_search.best_estimator_\n",
    "\n",
    "print('Metricas (SVM)')\n",
    "\n",
    "# Predecir con el mejor modelo en los datos de prueba\n",
    "y_pred = svc1_model.predict(X_test)\n",
    "\n",
    "# Evaluar el rendimiento del modelo en los datos de entrenamiento\n",
    "y_train_pred = svc1_model.predict(X_train)\n",
    "train_accuracy = accuracy_score(y_train, y_train_pred)\n",
    "print(f'Accuracy en los datos de entrenamiento: {train_accuracy:.2f}')\n",
    "\n",
    "# Evaluar el rendimiento del modelo en los datos de prueba\n",
    "y_test_pred = svc1_model.predict(X_test)\n",
    "test_accuracy = accuracy_score(y_test, y_test_pred)\n",
    "test_precision = precision_score(y_test, y_test_pred)\n",
    "test_recall = recall_score(y_test, y_test_pred)\n",
    "test_f1 = f1_score(y_test, y_test_pred)\n",
    "confusion = confusion_matrix(y_test, y_test_pred)\n",
    "\n",
    "print(f'Accuracy en los datos de prueba: {test_accuracy:.2f}')\n",
    "print(f'Precisión en los datos de prueba: {test_precision:.2f}')\n",
    "print(f'Recall en los datos de prueba: {test_recall:.2f}')\n",
    "print(f'F1-score en los datos de prueba: {test_f1:.2f}')\n",
    "print('Matriz de confusión:')\n",
    "print(confusion)\n",
    "\n",
    "# Calcular el área bajo la curva ROC (AUC)\n",
    "fpr, tpr, thresholds = roc_curve(y_test, y_test_pred)\n",
    "roc_auc = auc(fpr, tpr)\n",
    "print(f'Área bajo la curva ROC (AUC): {roc_auc:.2f}')"
   ]
  },
  {
   "attachments": {},
   "cell_type": "markdown",
   "metadata": {},
   "source": [
    "## SVC PRUEBA 2"
   ]
  },
  {
   "attachments": {},
   "cell_type": "markdown",
   "metadata": {},
   "source": [
    "# Definir los hiperparámetros a ajustar\n",
    "parameters = {\n",
    "    'svc__C': [0.01, 0.1, 1],\n",
    "    'svc__kernel': ['linear', 'rbf', 'poly', 'sigmoid'],\n",
    "    'svc__gamma': ['scale', 'auto', 0.1, 1, 10],\n",
    "    'svc__degree': [3, 4, 5]\n",
    "}"
   ]
  },
  {
   "cell_type": "code",
   "execution_count": null,
   "metadata": {},
   "outputs": [],
   "source": [
    "from sklearn.pipeline import Pipeline\n",
    "from sklearn.preprocessing import StandardScaler\n",
    "from sklearn.svm import SVC\n",
    "from sklearn.model_selection import GridSearchCV\n",
    "from sklearn.metrics import accuracy_score, precision_score, recall_score, f1_score, confusion_matrix, roc_curve, auc\n",
    "\n",
    "pipeline = Pipeline([\n",
    "    ('scaler', StandardScaler()),  # Escalador\n",
    "    ('svc', SVC(random_state=42))  # Clasificador Máquinas de vectores de soporte (SVM)\n",
    "])\n",
    "\n",
    "# Definir los hiperparámetros a ajustar\n",
    "parameters = {\n",
    "    'svc__C': [0.01, 0.1 ],\n",
    "    'svc__kernel': ['poly'],\n",
    "    'svc__degree': [3, 4]\n",
    "}\n",
    "\n",
    "# Realizar la búsqueda de hiperparámetros utilizando validación cruzada\n",
    "grid_search = GridSearchCV(pipeline, parameters, cv=5, scoring='accuracy' , verbose=3)\n",
    "grid_search.fit(X_train, y_train)\n",
    "\n",
    "# Obtener el mejor modelo\n",
    "svc2_model = grid_search.best_estimator_\n",
    "\n",
    "print('Metricas (SVM)')\n",
    "\n",
    "\n",
    "# Evaluar el rendimiento del modelo en los datos de entrenamiento\n",
    "y_train_pred = svc2_model.predict(X_train)\n",
    "train_accuracy = accuracy_score(y_train, y_train_pred)\n",
    "print(f'Accuracy en los datos de entrenamiento: {train_accuracy:.2f}')\n",
    "\n",
    "# Evaluar el rendimiento del modelo en los datos de prueba\n",
    "y_test_pred = svc2_model.predict(X_test)\n",
    "test_accuracy = accuracy_score(y_test, y_test_pred)\n",
    "test_precision = precision_score(y_test, y_test_pred)\n",
    "test_recall = recall_score(y_test, y_test_pred)\n",
    "test_f1 = f1_score(y_test, y_test_pred)\n",
    "confusion = confusion_matrix(y_test, y_test_pred)\n",
    "\n",
    "print(f'Accuracy en los datos de prueba: {test_accuracy:.2f}')\n",
    "print(f'Precisión en los datos de prueba: {test_precision:.2f}')\n",
    "print(f'Recall en los datos de prueba: {test_recall:.2f}')\n",
    "print(f'F1-score en los datos de prueba: {test_f1:.2f}')\n",
    "print('Matriz de confusión:')\n",
    "print(confusion)\n",
    "\n",
    "# Calcular el área bajo la curva ROC (AUC)\n",
    "fpr, tpr, thresholds = roc_curve(y_test, y_test_pred)\n",
    "roc_auc = auc(fpr, tpr)\n",
    "print(f'Área bajo la curva ROC (AUC): {roc_auc:.2f}')"
   ]
  },
  {
   "cell_type": "code",
   "execution_count": 9,
   "metadata": {},
   "outputs": [],
   "source": [
    "import pickle\n",
    "import yaml\n",
    "\n",
    "# Guardar el modelo entrenado en un archivo pickle\n",
    "with open('../models/svc1_model.pkl', 'wb') as archivo_salida:\n",
    "    pickle.dump(svc1_model, archivo_salida)\n",
    "\n",
    "# Guardar la configuración del modelo en un archivo YAML\n",
    "model_config = {\n",
    "    'model_name': 'svc1_model',\n",
    "    'best_params': svc1_model.get_params()\n",
    "}\n",
    "\n",
    "with open('../models/svc1_model.yaml', 'w') as f:\n",
    "    yaml.dump(svc1_model, f)"
   ]
  },
  {
   "cell_type": "code",
   "execution_count": null,
   "metadata": {},
   "outputs": [],
   "source": []
  }
 ],
 "metadata": {
  "kernelspec": {
   "display_name": "Python 3",
   "language": "python",
   "name": "python3"
  },
  "language_info": {
   "codemirror_mode": {
    "name": "ipython",
    "version": 3
   },
   "file_extension": ".py",
   "mimetype": "text/x-python",
   "name": "python",
   "nbconvert_exporter": "python",
   "pygments_lexer": "ipython3",
   "version": "3.11.1"
  },
  "orig_nbformat": 4
 },
 "nbformat": 4,
 "nbformat_minor": 2
}
